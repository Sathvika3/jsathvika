{
  "cells": [
    {
      "cell_type": "markdown",
      "metadata": {
        "id": "view-in-github",
        "colab_type": "text"
      },
      "source": [
        "<a href=\"https://colab.research.google.com/github/Sathvika3/jsathvika/blob/main/RainfallPredictionFinal_(2).ipynb\" target=\"_parent\"><img src=\"https://colab.research.google.com/assets/colab-badge.svg\" alt=\"Open In Colab\"/></a>"
      ]
    },
    {
      "cell_type": "markdown",
      "source": [],
      "metadata": {
        "id": "hk4SC5ecQ3F8"
      }
    },
    {
      "cell_type": "markdown",
      "metadata": {
        "id": "8eSpOZfI0Dcu"
      },
      "source": [
        "#Importing libraries"
      ]
    },
    {
      "cell_type": "code",
      "execution_count": 2,
      "metadata": {
        "id": "yGWJ9lhdz-eP"
      },
      "outputs": [],
      "source": [
        "import numpy as np\n",
        "import pandas as pd\n",
        "import matplotlib.pyplot as plt\n",
        "import seaborn as sns"
      ]
    },
    {
      "cell_type": "markdown",
      "metadata": {
        "id": "hUDysljI18u0"
      },
      "source": [
        "#Importing Dataset"
      ]
    },
    {
      "cell_type": "code",
      "execution_count": 3,
      "metadata": {
        "id": "KsIMacGj17iT"
      },
      "outputs": [],
      "source": [
        "dataset = pd.read_csv('weatherAUS.csv')"
      ]
    },
    {
      "cell_type": "code",
      "source": [
        "dataset.head()"
      ],
      "metadata": {
        "colab": {
          "base_uri": "https://localhost:8080/",
          "height": 386
        },
        "id": "dF-E04-WQaDg",
        "outputId": "15cd1380-1384-4424-82ae-715ab9dc52a8"
      },
      "execution_count": 4,
      "outputs": [
        {
          "output_type": "execute_result",
          "data": {
            "text/plain": [
              "         Date Location  MinTemp  MaxTemp  Rainfall  Evaporation  Sunshine  \\\n",
              "0  2008-12-01   Albury     13.4     22.9       0.6          NaN       NaN   \n",
              "1  2008-12-02   Albury      7.4     25.1       0.0          NaN       NaN   \n",
              "2  2008-12-03   Albury     12.9     25.7       0.0          NaN       NaN   \n",
              "3  2008-12-04   Albury      9.2     28.0       0.0          NaN       NaN   \n",
              "4  2008-12-05   Albury     17.5     32.3       1.0          NaN       NaN   \n",
              "\n",
              "  WindGustDir  WindGustSpeed WindDir9am  ... Humidity9am  Humidity3pm  \\\n",
              "0           W           44.0          W  ...        71.0         22.0   \n",
              "1         WNW           44.0        NNW  ...        44.0         25.0   \n",
              "2         WSW           46.0          W  ...        38.0         30.0   \n",
              "3          NE           24.0         SE  ...        45.0         16.0   \n",
              "4           W           41.0        ENE  ...        82.0         33.0   \n",
              "\n",
              "   Pressure9am  Pressure3pm  Cloud9am  Cloud3pm  Temp9am  Temp3pm  RainToday  \\\n",
              "0       1007.7       1007.1       8.0       NaN     16.9     21.8         No   \n",
              "1       1010.6       1007.8       NaN       NaN     17.2     24.3         No   \n",
              "2       1007.6       1008.7       NaN       2.0     21.0     23.2         No   \n",
              "3       1017.6       1012.8       NaN       NaN     18.1     26.5         No   \n",
              "4       1010.8       1006.0       7.0       8.0     17.8     29.7         No   \n",
              "\n",
              "   RainTomorrow  \n",
              "0            No  \n",
              "1            No  \n",
              "2            No  \n",
              "3            No  \n",
              "4            No  \n",
              "\n",
              "[5 rows x 23 columns]"
            ],
            "text/html": [
              "\n",
              "  <div id=\"df-686b7534-1935-4cb7-9cdf-e79e22995e6d\">\n",
              "    <div class=\"colab-df-container\">\n",
              "      <div>\n",
              "<style scoped>\n",
              "    .dataframe tbody tr th:only-of-type {\n",
              "        vertical-align: middle;\n",
              "    }\n",
              "\n",
              "    .dataframe tbody tr th {\n",
              "        vertical-align: top;\n",
              "    }\n",
              "\n",
              "    .dataframe thead th {\n",
              "        text-align: right;\n",
              "    }\n",
              "</style>\n",
              "<table border=\"1\" class=\"dataframe\">\n",
              "  <thead>\n",
              "    <tr style=\"text-align: right;\">\n",
              "      <th></th>\n",
              "      <th>Date</th>\n",
              "      <th>Location</th>\n",
              "      <th>MinTemp</th>\n",
              "      <th>MaxTemp</th>\n",
              "      <th>Rainfall</th>\n",
              "      <th>Evaporation</th>\n",
              "      <th>Sunshine</th>\n",
              "      <th>WindGustDir</th>\n",
              "      <th>WindGustSpeed</th>\n",
              "      <th>WindDir9am</th>\n",
              "      <th>...</th>\n",
              "      <th>Humidity9am</th>\n",
              "      <th>Humidity3pm</th>\n",
              "      <th>Pressure9am</th>\n",
              "      <th>Pressure3pm</th>\n",
              "      <th>Cloud9am</th>\n",
              "      <th>Cloud3pm</th>\n",
              "      <th>Temp9am</th>\n",
              "      <th>Temp3pm</th>\n",
              "      <th>RainToday</th>\n",
              "      <th>RainTomorrow</th>\n",
              "    </tr>\n",
              "  </thead>\n",
              "  <tbody>\n",
              "    <tr>\n",
              "      <th>0</th>\n",
              "      <td>2008-12-01</td>\n",
              "      <td>Albury</td>\n",
              "      <td>13.4</td>\n",
              "      <td>22.9</td>\n",
              "      <td>0.6</td>\n",
              "      <td>NaN</td>\n",
              "      <td>NaN</td>\n",
              "      <td>W</td>\n",
              "      <td>44.0</td>\n",
              "      <td>W</td>\n",
              "      <td>...</td>\n",
              "      <td>71.0</td>\n",
              "      <td>22.0</td>\n",
              "      <td>1007.7</td>\n",
              "      <td>1007.1</td>\n",
              "      <td>8.0</td>\n",
              "      <td>NaN</td>\n",
              "      <td>16.9</td>\n",
              "      <td>21.8</td>\n",
              "      <td>No</td>\n",
              "      <td>No</td>\n",
              "    </tr>\n",
              "    <tr>\n",
              "      <th>1</th>\n",
              "      <td>2008-12-02</td>\n",
              "      <td>Albury</td>\n",
              "      <td>7.4</td>\n",
              "      <td>25.1</td>\n",
              "      <td>0.0</td>\n",
              "      <td>NaN</td>\n",
              "      <td>NaN</td>\n",
              "      <td>WNW</td>\n",
              "      <td>44.0</td>\n",
              "      <td>NNW</td>\n",
              "      <td>...</td>\n",
              "      <td>44.0</td>\n",
              "      <td>25.0</td>\n",
              "      <td>1010.6</td>\n",
              "      <td>1007.8</td>\n",
              "      <td>NaN</td>\n",
              "      <td>NaN</td>\n",
              "      <td>17.2</td>\n",
              "      <td>24.3</td>\n",
              "      <td>No</td>\n",
              "      <td>No</td>\n",
              "    </tr>\n",
              "    <tr>\n",
              "      <th>2</th>\n",
              "      <td>2008-12-03</td>\n",
              "      <td>Albury</td>\n",
              "      <td>12.9</td>\n",
              "      <td>25.7</td>\n",
              "      <td>0.0</td>\n",
              "      <td>NaN</td>\n",
              "      <td>NaN</td>\n",
              "      <td>WSW</td>\n",
              "      <td>46.0</td>\n",
              "      <td>W</td>\n",
              "      <td>...</td>\n",
              "      <td>38.0</td>\n",
              "      <td>30.0</td>\n",
              "      <td>1007.6</td>\n",
              "      <td>1008.7</td>\n",
              "      <td>NaN</td>\n",
              "      <td>2.0</td>\n",
              "      <td>21.0</td>\n",
              "      <td>23.2</td>\n",
              "      <td>No</td>\n",
              "      <td>No</td>\n",
              "    </tr>\n",
              "    <tr>\n",
              "      <th>3</th>\n",
              "      <td>2008-12-04</td>\n",
              "      <td>Albury</td>\n",
              "      <td>9.2</td>\n",
              "      <td>28.0</td>\n",
              "      <td>0.0</td>\n",
              "      <td>NaN</td>\n",
              "      <td>NaN</td>\n",
              "      <td>NE</td>\n",
              "      <td>24.0</td>\n",
              "      <td>SE</td>\n",
              "      <td>...</td>\n",
              "      <td>45.0</td>\n",
              "      <td>16.0</td>\n",
              "      <td>1017.6</td>\n",
              "      <td>1012.8</td>\n",
              "      <td>NaN</td>\n",
              "      <td>NaN</td>\n",
              "      <td>18.1</td>\n",
              "      <td>26.5</td>\n",
              "      <td>No</td>\n",
              "      <td>No</td>\n",
              "    </tr>\n",
              "    <tr>\n",
              "      <th>4</th>\n",
              "      <td>2008-12-05</td>\n",
              "      <td>Albury</td>\n",
              "      <td>17.5</td>\n",
              "      <td>32.3</td>\n",
              "      <td>1.0</td>\n",
              "      <td>NaN</td>\n",
              "      <td>NaN</td>\n",
              "      <td>W</td>\n",
              "      <td>41.0</td>\n",
              "      <td>ENE</td>\n",
              "      <td>...</td>\n",
              "      <td>82.0</td>\n",
              "      <td>33.0</td>\n",
              "      <td>1010.8</td>\n",
              "      <td>1006.0</td>\n",
              "      <td>7.0</td>\n",
              "      <td>8.0</td>\n",
              "      <td>17.8</td>\n",
              "      <td>29.7</td>\n",
              "      <td>No</td>\n",
              "      <td>No</td>\n",
              "    </tr>\n",
              "  </tbody>\n",
              "</table>\n",
              "<p>5 rows × 23 columns</p>\n",
              "</div>\n",
              "      <button class=\"colab-df-convert\" onclick=\"convertToInteractive('df-686b7534-1935-4cb7-9cdf-e79e22995e6d')\"\n",
              "              title=\"Convert this dataframe to an interactive table.\"\n",
              "              style=\"display:none;\">\n",
              "        \n",
              "  <svg xmlns=\"http://www.w3.org/2000/svg\" height=\"24px\"viewBox=\"0 0 24 24\"\n",
              "       width=\"24px\">\n",
              "    <path d=\"M0 0h24v24H0V0z\" fill=\"none\"/>\n",
              "    <path d=\"M18.56 5.44l.94 2.06.94-2.06 2.06-.94-2.06-.94-.94-2.06-.94 2.06-2.06.94zm-11 1L8.5 8.5l.94-2.06 2.06-.94-2.06-.94L8.5 2.5l-.94 2.06-2.06.94zm10 10l.94 2.06.94-2.06 2.06-.94-2.06-.94-.94-2.06-.94 2.06-2.06.94z\"/><path d=\"M17.41 7.96l-1.37-1.37c-.4-.4-.92-.59-1.43-.59-.52 0-1.04.2-1.43.59L10.3 9.45l-7.72 7.72c-.78.78-.78 2.05 0 2.83L4 21.41c.39.39.9.59 1.41.59.51 0 1.02-.2 1.41-.59l7.78-7.78 2.81-2.81c.8-.78.8-2.07 0-2.86zM5.41 20L4 18.59l7.72-7.72 1.47 1.35L5.41 20z\"/>\n",
              "  </svg>\n",
              "      </button>\n",
              "      \n",
              "  <style>\n",
              "    .colab-df-container {\n",
              "      display:flex;\n",
              "      flex-wrap:wrap;\n",
              "      gap: 12px;\n",
              "    }\n",
              "\n",
              "    .colab-df-convert {\n",
              "      background-color: #E8F0FE;\n",
              "      border: none;\n",
              "      border-radius: 50%;\n",
              "      cursor: pointer;\n",
              "      display: none;\n",
              "      fill: #1967D2;\n",
              "      height: 32px;\n",
              "      padding: 0 0 0 0;\n",
              "      width: 32px;\n",
              "    }\n",
              "\n",
              "    .colab-df-convert:hover {\n",
              "      background-color: #E2EBFA;\n",
              "      box-shadow: 0px 1px 2px rgba(60, 64, 67, 0.3), 0px 1px 3px 1px rgba(60, 64, 67, 0.15);\n",
              "      fill: #174EA6;\n",
              "    }\n",
              "\n",
              "    [theme=dark] .colab-df-convert {\n",
              "      background-color: #3B4455;\n",
              "      fill: #D2E3FC;\n",
              "    }\n",
              "\n",
              "    [theme=dark] .colab-df-convert:hover {\n",
              "      background-color: #434B5C;\n",
              "      box-shadow: 0px 1px 3px 1px rgba(0, 0, 0, 0.15);\n",
              "      filter: drop-shadow(0px 1px 2px rgba(0, 0, 0, 0.3));\n",
              "      fill: #FFFFFF;\n",
              "    }\n",
              "  </style>\n",
              "\n",
              "      <script>\n",
              "        const buttonEl =\n",
              "          document.querySelector('#df-686b7534-1935-4cb7-9cdf-e79e22995e6d button.colab-df-convert');\n",
              "        buttonEl.style.display =\n",
              "          google.colab.kernel.accessAllowed ? 'block' : 'none';\n",
              "\n",
              "        async function convertToInteractive(key) {\n",
              "          const element = document.querySelector('#df-686b7534-1935-4cb7-9cdf-e79e22995e6d');\n",
              "          const dataTable =\n",
              "            await google.colab.kernel.invokeFunction('convertToInteractive',\n",
              "                                                     [key], {});\n",
              "          if (!dataTable) return;\n",
              "\n",
              "          const docLinkHtml = 'Like what you see? Visit the ' +\n",
              "            '<a target=\"_blank\" href=https://colab.research.google.com/notebooks/data_table.ipynb>data table notebook</a>'\n",
              "            + ' to learn more about interactive tables.';\n",
              "          element.innerHTML = '';\n",
              "          dataTable['output_type'] = 'display_data';\n",
              "          await google.colab.output.renderOutput(dataTable, element);\n",
              "          const docLink = document.createElement('div');\n",
              "          docLink.innerHTML = docLinkHtml;\n",
              "          element.appendChild(docLink);\n",
              "        }\n",
              "      </script>\n",
              "    </div>\n",
              "  </div>\n",
              "  "
            ]
          },
          "metadata": {},
          "execution_count": 4
        }
      ]
    },
    {
      "cell_type": "code",
      "source": [
        "#Describe Method says the statistics of our data like Maxvalue,Mean,Count..etc for every column\n",
        "dataset.describe() "
      ],
      "metadata": {
        "colab": {
          "base_uri": "https://localhost:8080/",
          "height": 364
        },
        "id": "H8aY7T2mQm48",
        "outputId": "d75c6893-d65b-4eec-bf76-61b5c1de55fa"
      },
      "execution_count": 5,
      "outputs": [
        {
          "output_type": "execute_result",
          "data": {
            "text/plain": [
              "            MinTemp       MaxTemp      Rainfall   Evaporation      Sunshine  \\\n",
              "count  64679.000000  64848.000000  63842.000000  28173.000000  21365.000000   \n",
              "mean      11.397842     22.321623      2.508418      5.310659      7.435301   \n",
              "std        6.387053      6.887341      8.712657      4.313724      3.813798   \n",
              "min       -8.500000     -4.800000      0.000000      0.000000      0.000000   \n",
              "25%        6.800000     17.800000      0.000000      2.600000      4.600000   \n",
              "50%       11.700000     22.000000      0.000000      4.400000      8.400000   \n",
              "75%       16.500000     26.700000      0.800000      7.000000     10.400000   \n",
              "max       30.500000     47.300000    371.000000    145.000000     14.100000   \n",
              "\n",
              "       WindGustSpeed  WindSpeed9am  WindSpeed3pm   Humidity9am   Humidity3pm  \\\n",
              "count   59235.000000  63929.000000  63311.000000  64016.000000  63559.000000   \n",
              "mean       39.810197     13.397941     18.245629     71.488237     53.019273   \n",
              "std        14.230242      9.236760      9.379320     17.715577     20.697049   \n",
              "min         7.000000      0.000000      0.000000      3.000000      1.000000   \n",
              "25%        30.000000      7.000000     11.000000     60.000000     38.000000   \n",
              "50%        37.000000     13.000000     17.000000     72.000000     53.000000   \n",
              "75%        48.000000     19.000000     24.000000     85.000000     67.000000   \n",
              "max       135.000000    130.000000     83.000000    100.000000    100.000000   \n",
              "\n",
              "        Pressure9am   Pressure3pm      Cloud9am      Cloud3pm       Temp9am  \\\n",
              "count  55209.000000  55261.000000  37937.000000  37159.000000  64352.000000   \n",
              "mean    1018.261465   1015.823251      4.606664      4.671143     16.024733   \n",
              "std        7.015152      6.901594      2.922153      2.715958      6.114159   \n",
              "min      980.500000    979.000000      0.000000      0.000000     -7.200000   \n",
              "25%     1013.600000   1011.200000      1.000000      2.000000     11.800000   \n",
              "50%     1018.300000   1015.900000      5.000000      5.000000     16.400000   \n",
              "75%     1023.000000   1020.500000      7.000000      7.000000     20.600000   \n",
              "max     1040.600000   1037.900000      9.000000      8.000000     37.700000   \n",
              "\n",
              "            Temp3pm  \n",
              "count  63837.000000  \n",
              "mean      20.879047  \n",
              "std        6.707737  \n",
              "min       -5.400000  \n",
              "25%       16.500000  \n",
              "50%       20.600000  \n",
              "75%       25.000000  \n",
              "max       46.700000  "
            ],
            "text/html": [
              "\n",
              "  <div id=\"df-a42f1882-82c6-43eb-a46f-6423e34fbf74\">\n",
              "    <div class=\"colab-df-container\">\n",
              "      <div>\n",
              "<style scoped>\n",
              "    .dataframe tbody tr th:only-of-type {\n",
              "        vertical-align: middle;\n",
              "    }\n",
              "\n",
              "    .dataframe tbody tr th {\n",
              "        vertical-align: top;\n",
              "    }\n",
              "\n",
              "    .dataframe thead th {\n",
              "        text-align: right;\n",
              "    }\n",
              "</style>\n",
              "<table border=\"1\" class=\"dataframe\">\n",
              "  <thead>\n",
              "    <tr style=\"text-align: right;\">\n",
              "      <th></th>\n",
              "      <th>MinTemp</th>\n",
              "      <th>MaxTemp</th>\n",
              "      <th>Rainfall</th>\n",
              "      <th>Evaporation</th>\n",
              "      <th>Sunshine</th>\n",
              "      <th>WindGustSpeed</th>\n",
              "      <th>WindSpeed9am</th>\n",
              "      <th>WindSpeed3pm</th>\n",
              "      <th>Humidity9am</th>\n",
              "      <th>Humidity3pm</th>\n",
              "      <th>Pressure9am</th>\n",
              "      <th>Pressure3pm</th>\n",
              "      <th>Cloud9am</th>\n",
              "      <th>Cloud3pm</th>\n",
              "      <th>Temp9am</th>\n",
              "      <th>Temp3pm</th>\n",
              "    </tr>\n",
              "  </thead>\n",
              "  <tbody>\n",
              "    <tr>\n",
              "      <th>count</th>\n",
              "      <td>64679.000000</td>\n",
              "      <td>64848.000000</td>\n",
              "      <td>63842.000000</td>\n",
              "      <td>28173.000000</td>\n",
              "      <td>21365.000000</td>\n",
              "      <td>59235.000000</td>\n",
              "      <td>63929.000000</td>\n",
              "      <td>63311.000000</td>\n",
              "      <td>64016.000000</td>\n",
              "      <td>63559.000000</td>\n",
              "      <td>55209.000000</td>\n",
              "      <td>55261.000000</td>\n",
              "      <td>37937.000000</td>\n",
              "      <td>37159.000000</td>\n",
              "      <td>64352.000000</td>\n",
              "      <td>63837.000000</td>\n",
              "    </tr>\n",
              "    <tr>\n",
              "      <th>mean</th>\n",
              "      <td>11.397842</td>\n",
              "      <td>22.321623</td>\n",
              "      <td>2.508418</td>\n",
              "      <td>5.310659</td>\n",
              "      <td>7.435301</td>\n",
              "      <td>39.810197</td>\n",
              "      <td>13.397941</td>\n",
              "      <td>18.245629</td>\n",
              "      <td>71.488237</td>\n",
              "      <td>53.019273</td>\n",
              "      <td>1018.261465</td>\n",
              "      <td>1015.823251</td>\n",
              "      <td>4.606664</td>\n",
              "      <td>4.671143</td>\n",
              "      <td>16.024733</td>\n",
              "      <td>20.879047</td>\n",
              "    </tr>\n",
              "    <tr>\n",
              "      <th>std</th>\n",
              "      <td>6.387053</td>\n",
              "      <td>6.887341</td>\n",
              "      <td>8.712657</td>\n",
              "      <td>4.313724</td>\n",
              "      <td>3.813798</td>\n",
              "      <td>14.230242</td>\n",
              "      <td>9.236760</td>\n",
              "      <td>9.379320</td>\n",
              "      <td>17.715577</td>\n",
              "      <td>20.697049</td>\n",
              "      <td>7.015152</td>\n",
              "      <td>6.901594</td>\n",
              "      <td>2.922153</td>\n",
              "      <td>2.715958</td>\n",
              "      <td>6.114159</td>\n",
              "      <td>6.707737</td>\n",
              "    </tr>\n",
              "    <tr>\n",
              "      <th>min</th>\n",
              "      <td>-8.500000</td>\n",
              "      <td>-4.800000</td>\n",
              "      <td>0.000000</td>\n",
              "      <td>0.000000</td>\n",
              "      <td>0.000000</td>\n",
              "      <td>7.000000</td>\n",
              "      <td>0.000000</td>\n",
              "      <td>0.000000</td>\n",
              "      <td>3.000000</td>\n",
              "      <td>1.000000</td>\n",
              "      <td>980.500000</td>\n",
              "      <td>979.000000</td>\n",
              "      <td>0.000000</td>\n",
              "      <td>0.000000</td>\n",
              "      <td>-7.200000</td>\n",
              "      <td>-5.400000</td>\n",
              "    </tr>\n",
              "    <tr>\n",
              "      <th>25%</th>\n",
              "      <td>6.800000</td>\n",
              "      <td>17.800000</td>\n",
              "      <td>0.000000</td>\n",
              "      <td>2.600000</td>\n",
              "      <td>4.600000</td>\n",
              "      <td>30.000000</td>\n",
              "      <td>7.000000</td>\n",
              "      <td>11.000000</td>\n",
              "      <td>60.000000</td>\n",
              "      <td>38.000000</td>\n",
              "      <td>1013.600000</td>\n",
              "      <td>1011.200000</td>\n",
              "      <td>1.000000</td>\n",
              "      <td>2.000000</td>\n",
              "      <td>11.800000</td>\n",
              "      <td>16.500000</td>\n",
              "    </tr>\n",
              "    <tr>\n",
              "      <th>50%</th>\n",
              "      <td>11.700000</td>\n",
              "      <td>22.000000</td>\n",
              "      <td>0.000000</td>\n",
              "      <td>4.400000</td>\n",
              "      <td>8.400000</td>\n",
              "      <td>37.000000</td>\n",
              "      <td>13.000000</td>\n",
              "      <td>17.000000</td>\n",
              "      <td>72.000000</td>\n",
              "      <td>53.000000</td>\n",
              "      <td>1018.300000</td>\n",
              "      <td>1015.900000</td>\n",
              "      <td>5.000000</td>\n",
              "      <td>5.000000</td>\n",
              "      <td>16.400000</td>\n",
              "      <td>20.600000</td>\n",
              "    </tr>\n",
              "    <tr>\n",
              "      <th>75%</th>\n",
              "      <td>16.500000</td>\n",
              "      <td>26.700000</td>\n",
              "      <td>0.800000</td>\n",
              "      <td>7.000000</td>\n",
              "      <td>10.400000</td>\n",
              "      <td>48.000000</td>\n",
              "      <td>19.000000</td>\n",
              "      <td>24.000000</td>\n",
              "      <td>85.000000</td>\n",
              "      <td>67.000000</td>\n",
              "      <td>1023.000000</td>\n",
              "      <td>1020.500000</td>\n",
              "      <td>7.000000</td>\n",
              "      <td>7.000000</td>\n",
              "      <td>20.600000</td>\n",
              "      <td>25.000000</td>\n",
              "    </tr>\n",
              "    <tr>\n",
              "      <th>max</th>\n",
              "      <td>30.500000</td>\n",
              "      <td>47.300000</td>\n",
              "      <td>371.000000</td>\n",
              "      <td>145.000000</td>\n",
              "      <td>14.100000</td>\n",
              "      <td>135.000000</td>\n",
              "      <td>130.000000</td>\n",
              "      <td>83.000000</td>\n",
              "      <td>100.000000</td>\n",
              "      <td>100.000000</td>\n",
              "      <td>1040.600000</td>\n",
              "      <td>1037.900000</td>\n",
              "      <td>9.000000</td>\n",
              "      <td>8.000000</td>\n",
              "      <td>37.700000</td>\n",
              "      <td>46.700000</td>\n",
              "    </tr>\n",
              "  </tbody>\n",
              "</table>\n",
              "</div>\n",
              "      <button class=\"colab-df-convert\" onclick=\"convertToInteractive('df-a42f1882-82c6-43eb-a46f-6423e34fbf74')\"\n",
              "              title=\"Convert this dataframe to an interactive table.\"\n",
              "              style=\"display:none;\">\n",
              "        \n",
              "  <svg xmlns=\"http://www.w3.org/2000/svg\" height=\"24px\"viewBox=\"0 0 24 24\"\n",
              "       width=\"24px\">\n",
              "    <path d=\"M0 0h24v24H0V0z\" fill=\"none\"/>\n",
              "    <path d=\"M18.56 5.44l.94 2.06.94-2.06 2.06-.94-2.06-.94-.94-2.06-.94 2.06-2.06.94zm-11 1L8.5 8.5l.94-2.06 2.06-.94-2.06-.94L8.5 2.5l-.94 2.06-2.06.94zm10 10l.94 2.06.94-2.06 2.06-.94-2.06-.94-.94-2.06-.94 2.06-2.06.94z\"/><path d=\"M17.41 7.96l-1.37-1.37c-.4-.4-.92-.59-1.43-.59-.52 0-1.04.2-1.43.59L10.3 9.45l-7.72 7.72c-.78.78-.78 2.05 0 2.83L4 21.41c.39.39.9.59 1.41.59.51 0 1.02-.2 1.41-.59l7.78-7.78 2.81-2.81c.8-.78.8-2.07 0-2.86zM5.41 20L4 18.59l7.72-7.72 1.47 1.35L5.41 20z\"/>\n",
              "  </svg>\n",
              "      </button>\n",
              "      \n",
              "  <style>\n",
              "    .colab-df-container {\n",
              "      display:flex;\n",
              "      flex-wrap:wrap;\n",
              "      gap: 12px;\n",
              "    }\n",
              "\n",
              "    .colab-df-convert {\n",
              "      background-color: #E8F0FE;\n",
              "      border: none;\n",
              "      border-radius: 50%;\n",
              "      cursor: pointer;\n",
              "      display: none;\n",
              "      fill: #1967D2;\n",
              "      height: 32px;\n",
              "      padding: 0 0 0 0;\n",
              "      width: 32px;\n",
              "    }\n",
              "\n",
              "    .colab-df-convert:hover {\n",
              "      background-color: #E2EBFA;\n",
              "      box-shadow: 0px 1px 2px rgba(60, 64, 67, 0.3), 0px 1px 3px 1px rgba(60, 64, 67, 0.15);\n",
              "      fill: #174EA6;\n",
              "    }\n",
              "\n",
              "    [theme=dark] .colab-df-convert {\n",
              "      background-color: #3B4455;\n",
              "      fill: #D2E3FC;\n",
              "    }\n",
              "\n",
              "    [theme=dark] .colab-df-convert:hover {\n",
              "      background-color: #434B5C;\n",
              "      box-shadow: 0px 1px 3px 1px rgba(0, 0, 0, 0.15);\n",
              "      filter: drop-shadow(0px 1px 2px rgba(0, 0, 0, 0.3));\n",
              "      fill: #FFFFFF;\n",
              "    }\n",
              "  </style>\n",
              "\n",
              "      <script>\n",
              "        const buttonEl =\n",
              "          document.querySelector('#df-a42f1882-82c6-43eb-a46f-6423e34fbf74 button.colab-df-convert');\n",
              "        buttonEl.style.display =\n",
              "          google.colab.kernel.accessAllowed ? 'block' : 'none';\n",
              "\n",
              "        async function convertToInteractive(key) {\n",
              "          const element = document.querySelector('#df-a42f1882-82c6-43eb-a46f-6423e34fbf74');\n",
              "          const dataTable =\n",
              "            await google.colab.kernel.invokeFunction('convertToInteractive',\n",
              "                                                     [key], {});\n",
              "          if (!dataTable) return;\n",
              "\n",
              "          const docLinkHtml = 'Like what you see? Visit the ' +\n",
              "            '<a target=\"_blank\" href=https://colab.research.google.com/notebooks/data_table.ipynb>data table notebook</a>'\n",
              "            + ' to learn more about interactive tables.';\n",
              "          element.innerHTML = '';\n",
              "          dataTable['output_type'] = 'display_data';\n",
              "          await google.colab.output.renderOutput(dataTable, element);\n",
              "          const docLink = document.createElement('div');\n",
              "          docLink.innerHTML = docLinkHtml;\n",
              "          element.appendChild(docLink);\n",
              "        }\n",
              "      </script>\n",
              "    </div>\n",
              "  </div>\n",
              "  "
            ]
          },
          "metadata": {},
          "execution_count": 5
        }
      ]
    },
    {
      "cell_type": "code",
      "source": [
        "#count all the null values in the data\n",
        "dataset.isna().sum()"
      ],
      "metadata": {
        "colab": {
          "base_uri": "https://localhost:8080/"
        },
        "id": "UsZD3ZwmQwRM",
        "outputId": "e0ea35a0-38ca-45cb-9ed9-2b03f152197c"
      },
      "execution_count": 6,
      "outputs": [
        {
          "output_type": "execute_result",
          "data": {
            "text/plain": [
              "Date                 0\n",
              "Location             0\n",
              "MinTemp            619\n",
              "MaxTemp            450\n",
              "Rainfall          1456\n",
              "Evaporation      37125\n",
              "Sunshine         43933\n",
              "WindGustDir       6071\n",
              "WindGustSpeed     6063\n",
              "WindDir9am        6674\n",
              "WindDir3pm        2763\n",
              "WindSpeed9am      1369\n",
              "WindSpeed3pm      1987\n",
              "Humidity9am       1282\n",
              "Humidity3pm       1739\n",
              "Pressure9am      10089\n",
              "Pressure3pm      10037\n",
              "Cloud9am         27361\n",
              "Cloud3pm         28139\n",
              "Temp9am            946\n",
              "Temp3pm           1461\n",
              "RainToday         1457\n",
              "RainTomorrow      1456\n",
              "dtype: int64"
            ]
          },
          "metadata": {},
          "execution_count": 6
        }
      ]
    },
    {
      "cell_type": "code",
      "source": [
        "#it is clear that evaporation and sunshine have more missing values so better remove them "
      ],
      "metadata": {
        "id": "1PJ252nVQ6Xg"
      },
      "execution_count": 7,
      "outputs": []
    },
    {
      "cell_type": "code",
      "metadata": {
        "id": "Rc3HsLy-RJut",
        "colab": {
          "base_uri": "https://localhost:8080/",
          "height": 774
        },
        "outputId": "a809e778-398e-4897-af0f-6898596cd9cd"
      },
      "source": [
        "fig = plt.gcf()\n",
        "fig.set_size_inches((15, 12));\n",
        "\n",
        "dataset['RainToday'].replace({'No': 0, 'Yes': 1}, inplace  = True)\n",
        "dataset['RainTomorrow'].replace({'No': 0, 'Yes': 1}, inplace = True)\n",
        "\n",
        "sns.heatmap(dataset.corr(), annot = True, cmap = sns.color_palette(\"coolwarm\", as_cmap = True));"
      ],
      "execution_count": 8,
      "outputs": [
        {
          "output_type": "display_data",
          "data": {
            "text/plain": [
              "<Figure size 1080x864 with 2 Axes>"
            ],
            "image/png": "[encoded data removed]"
          },
          "metadata": {
            "needs_background": "light"
          }
        }
      ]
    },
    {
      "cell_type": "markdown",
      "source": [
        "## **cleaning and preprocessing**"
      ],
      "metadata": {
        "id": "tKfVbilcSFFz"
      }
    },
    {
      "cell_type": "markdown",
      "source": [
        "## Feature Selection"
      ],
      "metadata": {
        "id": "DqcamAOVSnjz"
      }
    },
    {
      "cell_type": "markdown",
      "source": [
        "**bold text**"
      ],
      "metadata": {
        "id": "mHKmcVNUSBA0"
      }
    },
    {
      "cell_type": "code",
      "source": [
        "X = dataset.iloc[:,[1,2,3,4,7,8,9,10,11,12,13,14,15,16,19,20,21]].values\n",
        "Y = dataset.iloc[:,-1].values"
      ],
      "metadata": {
        "id": "C3-F1KblS4Tl"
      },
      "execution_count": 9,
      "outputs": []
    },
    {
      "cell_type": "code",
      "execution_count": 10,
      "metadata": {
        "id": "lmk-Nsft31Jr",
        "colab": {
          "base_uri": "https://localhost:8080/"
        },
        "outputId": "795a40a2-bf8b-4ed1-f0c0-cf817387edc3"
      },
      "outputs": [
        {
          "output_type": "stream",
          "name": "stdout",
          "text": [
            "[['Albury' 13.4 22.9 ... 16.9 21.8 0.0]\n",
            " ['Albury' 7.4 25.1 ... 17.2 24.3 0.0]\n",
            " ['Albury' 12.9 25.7 ... 21.0 23.2 0.0]\n",
            " ...\n",
            " ['MelbourneAirport' 9.2 26.0 ... 15.7 24.8 0.0]\n",
            " ['MelbourneAirport' 15.3 25.8 ... 18.3 25.0 0.0]\n",
            " ['MelbourneAirport' 14.5 20.9 ... nan nan nan]]\n"
          ]
        }
      ],
      "source": [
        "print(X)"
      ]
    },
    {
      "cell_type": "code",
      "execution_count": 11,
      "metadata": {
        "id": "6WaCq0E033ej",
        "colab": {
          "base_uri": "https://localhost:8080/"
        },
        "outputId": "e06ecf75-0bc6-4f70-b594-138b5b21a46e"
      },
      "outputs": [
        {
          "output_type": "stream",
          "name": "stdout",
          "text": [
            "[ 0.  0.  0. ...  0.  1. nan]\n"
          ]
        }
      ],
      "source": [
        "print(Y)"
      ]
    },
    {
      "cell_type": "code",
      "execution_count": 12,
      "metadata": {
        "id": "YbemIbgA68O-"
      },
      "outputs": [],
      "source": [
        "Y = Y.reshape(-1,1)\n"
      ]
    },
    {
      "cell_type": "markdown",
      "metadata": {
        "id": "MHIv1iaT4O8A"
      },
      "source": [
        "#Dealing with invalid Data"
      ]
    },
    {
      "cell_type": "code",
      "execution_count": 13,
      "metadata": {
        "id": "E_y92J5-345v"
      },
      "outputs": [],
      "source": [
        "from sklearn.impute import SimpleImputer\n",
        "imputer = SimpleImputer(missing_values=np.nan,strategy='most_frequent')\n",
        "X = imputer.fit_transform(X)\n",
        "Y = imputer.fit_transform(Y)"
      ]
    },
    {
      "cell_type": "code",
      "execution_count": 14,
      "metadata": {
        "id": "XPwVYJ2g5CG_",
        "colab": {
          "base_uri": "https://localhost:8080/"
        },
        "outputId": "16e6c781-d9cc-487a-9b23-51e2eee693df"
      },
      "outputs": [
        {
          "output_type": "stream",
          "name": "stdout",
          "text": [
            "[['Albury' 13.4 22.9 ... 16.9 21.8 0.0]\n",
            " ['Albury' 7.4 25.1 ... 17.2 24.3 0.0]\n",
            " ['Albury' 12.9 25.7 ... 21.0 23.2 0.0]\n",
            " ...\n",
            " ['MelbourneAirport' 9.2 26.0 ... 15.7 24.8 0.0]\n",
            " ['MelbourneAirport' 15.3 25.8 ... 18.3 25.0 0.0]\n",
            " ['MelbourneAirport' 14.5 20.9 ... 19.0 18.4 0.0]]\n"
          ]
        }
      ],
      "source": [
        "print(X)"
      ]
    },
    {
      "cell_type": "code",
      "execution_count": 15,
      "metadata": {
        "id": "n5m3o-8x6ZWZ",
        "colab": {
          "base_uri": "https://localhost:8080/"
        },
        "outputId": "8eec2b23-2d2c-44f9-c656-f0b531d1e12c"
      },
      "outputs": [
        {
          "output_type": "stream",
          "name": "stdout",
          "text": [
            "[[0.]\n",
            " [0.]\n",
            " [0.]\n",
            " ...\n",
            " [0.]\n",
            " [1.]\n",
            " [0.]]\n"
          ]
        }
      ],
      "source": [
        "print(Y)"
      ]
    },
    {
      "cell_type": "markdown",
      "metadata": {
        "id": "r2_RFG2N6zXN"
      },
      "source": [
        "#Encoding Dataset"
      ]
    },
    {
      "cell_type": "code",
      "execution_count": 16,
      "metadata": {
        "id": "2N_ESqUX6wZC"
      },
      "outputs": [],
      "source": [
        "from sklearn.preprocessing import LabelEncoder\n",
        "le1 = LabelEncoder()\n",
        "X[:,0] = le1.fit_transform(X[:,0])\n",
        "le2 = LabelEncoder()\n",
        "X[:,4] = le2.fit_transform(X[:,4])\n",
        "le3 = LabelEncoder()\n",
        "X[:,6] = le3.fit_transform(X[:,6])\n",
        "le4 = LabelEncoder()\n",
        "X[:,7] = le4.fit_transform(X[:,7])\n",
        "le5 = LabelEncoder()\n",
        "X[:,-1] = le5.fit_transform(X[:,-1])\n",
        "le6 = LabelEncoder()\n",
        "Y[:,-1] = le6.fit_transform(Y[:,-1])"
      ]
    },
    {
      "cell_type": "code",
      "execution_count": 17,
      "metadata": {
        "id": "Oj8Oj8iV8EIT",
        "colab": {
          "base_uri": "https://localhost:8080/"
        },
        "outputId": "20ac2a8c-18f0-433a-ea17-56c31f134491"
      },
      "outputs": [
        {
          "output_type": "stream",
          "name": "stdout",
          "text": [
            "[[0 13.4 22.9 ... 16.9 21.8 0]\n",
            " [0 7.4 25.1 ... 17.2 24.3 0]\n",
            " [0 12.9 25.7 ... 21.0 23.2 0]\n",
            " ...\n",
            " [7 9.2 26.0 ... 15.7 24.8 0]\n",
            " [7 15.3 25.8 ... 18.3 25.0 0]\n",
            " [7 14.5 20.9 ... 19.0 18.4 0]]\n"
          ]
        }
      ],
      "source": [
        "print(X)"
      ]
    },
    {
      "cell_type": "code",
      "execution_count": 18,
      "metadata": {
        "id": "Nxi3qYsa9nyg",
        "colab": {
          "base_uri": "https://localhost:8080/"
        },
        "outputId": "b9ed8579-01a2-48cd-f27a-be318e582f64"
      },
      "outputs": [
        {
          "output_type": "stream",
          "name": "stdout",
          "text": [
            "[[0.]\n",
            " [0.]\n",
            " [0.]\n",
            " ...\n",
            " [0.]\n",
            " [1.]\n",
            " [0.]]\n"
          ]
        }
      ],
      "source": [
        "print(Y)"
      ]
    },
    {
      "cell_type": "code",
      "execution_count": 19,
      "metadata": {
        "id": "NUml4zNfEVcQ",
        "colab": {
          "base_uri": "https://localhost:8080/"
        },
        "outputId": "21fe731f-84b4-4e44-c682-f4826c4666be"
      },
      "outputs": [
        {
          "output_type": "stream",
          "name": "stdout",
          "text": [
            "[[0.]\n",
            " [0.]\n",
            " [0.]\n",
            " ...\n",
            " [0.]\n",
            " [1.]\n",
            " [0.]]\n"
          ]
        }
      ],
      "source": [
        "Y = np.array(Y,dtype=float)\n",
        "print(Y)"
      ]
    },
    {
      "cell_type": "markdown",
      "metadata": {
        "id": "A8ZyRLlk8_PZ"
      },
      "source": [
        "#Feature Scaling"
      ]
    },
    {
      "cell_type": "code",
      "execution_count": 20,
      "metadata": {
        "id": "2XXzjA8k8FMs"
      },
      "outputs": [],
      "source": [
        "from sklearn.preprocessing import StandardScaler\n",
        "sc = StandardScaler()\n",
        "X = sc.fit_transform(X)"
      ]
    },
    {
      "cell_type": "code",
      "execution_count": 21,
      "metadata": {
        "id": "VHGXacqY-Jrg",
        "colab": {
          "base_uri": "https://localhost:8080/"
        },
        "outputId": "bc460e2a-0174-444b-c286-369eb51fc654"
      },
      "outputs": [
        {
          "output_type": "stream",
          "name": "stdout",
          "text": [
            "[[-1.65152411  0.30550383  0.08656555 ...  0.13686754  0.1469993\n",
            "  -0.52941253]\n",
            " [-1.65152411 -0.63496515  0.40697559 ...  0.18620912  0.52337228\n",
            "  -0.52941253]\n",
            " [-1.65152411  0.22713142  0.49436014 ...  0.81120259  0.35776817\n",
            "  -0.52941253]\n",
            " ...\n",
            " [-0.55921302 -0.35282446  0.53805242 ... -0.06049882  0.59864688\n",
            "  -0.52941253]\n",
            " [-0.55921302  0.60331901  0.50892424 ...  0.36712829  0.62875672\n",
            "  -0.52941253]\n",
            " [-0.55921302  0.47792315 -0.2047163  ...  0.48225866 -0.36486795\n",
            "  -0.52941253]]\n"
          ]
        }
      ],
      "source": [
        "print(X)"
      ]
    },
    {
      "cell_type": "code",
      "source": [
        "Y"
      ],
      "metadata": {
        "id": "hiFblSkoTBys",
        "colab": {
          "base_uri": "https://localhost:8080/"
        },
        "outputId": "e520aaa4-e94f-4496-9ba2-f86f238802bb"
      },
      "execution_count": 22,
      "outputs": [
        {
          "output_type": "execute_result",
          "data": {
            "text/plain": [
              "array([[0.],\n",
              "       [0.],\n",
              "       [0.],\n",
              "       ...,\n",
              "       [0.],\n",
              "       [1.],\n",
              "       [0.]])"
            ]
          },
          "metadata": {},
          "execution_count": 22
        }
      ]
    },
    {
      "cell_type": "markdown",
      "source": [
        "## MODELLING"
      ],
      "metadata": {
        "id": "sOLvYslXTG9B"
      }
    },
    {
      "cell_type": "markdown",
      "metadata": {
        "id": "aQDbMGGl-QST"
      },
      "source": [
        "#Splitting Dataset into Training set and Test set"
      ]
    },
    {
      "cell_type": "code",
      "execution_count": 23,
      "metadata": {
        "id": "xpVKkTfM-KsN"
      },
      "outputs": [],
      "source": [
        "from sklearn.model_selection import train_test_split\n",
        "X_train,X_test,Y_train,Y_test = train_test_split(X,Y,test_size=0.2,random_state=None)"
      ]
    },
    {
      "cell_type": "code",
      "execution_count": 24,
      "metadata": {
        "id": "eA7K-Ygv_Z5b",
        "colab": {
          "base_uri": "https://localhost:8080/"
        },
        "outputId": "838bf232-2a43-4365-b645-7ae8b96b1337"
      },
      "outputs": [
        {
          "output_type": "stream",
          "name": "stdout",
          "text": [
            "[[ 0.22100919  0.41522521 -0.5979468  ...  0.02173716 -0.68102125\n",
            "   1.88888615]\n",
            " [ 1.0012314   1.40271765  0.98953929 ...  1.48553765  1.14062397\n",
            "   1.88888615]\n",
            " [-1.49547966 -1.62245759 -0.49599815 ... -1.45851053 -0.4853073\n",
            "  -0.52941253]\n",
            " ...\n",
            " [-0.09107969  0.57197004 -0.21928039 ...  0.2848923  -0.36486795\n",
            "  -0.52941253]\n",
            " [-0.24712413 -1.19924654 -1.29702325 ... -1.54074651 -1.38860246\n",
            "  -0.52941253]\n",
            " [-1.02734634 -2.13971553 -1.55917692 ... -2.08350399 -1.47893197\n",
            "  -0.52941253]]\n"
          ]
        }
      ],
      "source": [
        "print(X_train)"
      ]
    },
    {
      "cell_type": "code",
      "execution_count": 25,
      "metadata": {
        "id": "d2lROgxR_Z-e",
        "colab": {
          "base_uri": "https://localhost:8080/"
        },
        "outputId": "852cf5b7-d237-407c-dc1d-58ae60e7d513"
      },
      "outputs": [
        {
          "output_type": "stream",
          "name": "stdout",
          "text": [
            "[[1.]\n",
            " [0.]\n",
            " [0.]\n",
            " ...\n",
            " [0.]\n",
            " [0.]\n",
            " [0.]]\n"
          ]
        }
      ],
      "source": [
        "print(Y_train)"
      ]
    },
    {
      "cell_type": "code",
      "source": [
        "Y_test.shape\n"
      ],
      "metadata": {
        "colab": {
          "base_uri": "https://localhost:8080/"
        },
        "id": "EDllo55_aGKq",
        "outputId": "4a05a553-1682-49cc-8bbf-6d233c9a22a3"
      },
      "execution_count": 26,
      "outputs": [
        {
          "output_type": "execute_result",
          "data": {
            "text/plain": [
              "(13060, 1)"
            ]
          },
          "metadata": {},
          "execution_count": 26
        }
      ]
    },
    {
      "cell_type": "markdown",
      "source": [
        "## MODELS"
      ],
      "metadata": {
        "id": "w9YbqTLETRiu"
      }
    },
    {
      "cell_type": "markdown",
      "metadata": {
        "id": "9wXaahXT-79-"
      },
      "source": [
        "#Training Model"
      ]
    },
    {
      "cell_type": "markdown",
      "source": [
        "# **Random Forest**"
      ],
      "metadata": {
        "id": "HOB4nqFWTWdk"
      }
    },
    {
      "cell_type": "code",
      "execution_count": 27,
      "metadata": {
        "id": "dgXgeZ43-uih",
        "colab": {
          "base_uri": "https://localhost:8080/"
        },
        "outputId": "a9c8b98f-2ab3-4d1a-ee6a-614c820523dc"
      },
      "outputs": [
        {
          "output_type": "stream",
          "name": "stderr",
          "text": [
            "/usr/local/lib/python3.7/dist-packages/ipykernel_launcher.py:3: DataConversionWarning: A column-vector y was passed when a 1d array was expected. Please change the shape of y to (n_samples,), for example using ravel().\n",
            "  This is separate from the ipykernel package so we can avoid doing imports until\n"
          ]
        },
        {
          "output_type": "execute_result",
          "data": {
            "text/plain": [
              "RandomForestClassifier(random_state=0)"
            ]
          },
          "metadata": {},
          "execution_count": 27
        }
      ],
      "source": [
        "from sklearn.ensemble import RandomForestClassifier\n",
        "classifier_rf = RandomForestClassifier(n_estimators=100,random_state=0)\n",
        "classifier_rf.fit(X_train,Y_train)"
      ]
    },
    {
      "cell_type": "code",
      "execution_count": 28,
      "metadata": {
        "id": "cuEeou4R_UFC",
        "colab": {
          "base_uri": "https://localhost:8080/"
        },
        "outputId": "6ef20144-5973-4232-fefd-bc707aaab283"
      },
      "outputs": [
        {
          "output_type": "execute_result",
          "data": {
            "text/plain": [
              "0.9997702821700678"
            ]
          },
          "metadata": {},
          "execution_count": 28
        }
      ],
      "source": [
        "classifier_rf.score(X_train,Y_train)"
      ]
    },
    {
      "cell_type": "code",
      "execution_count": 29,
      "metadata": {
        "id": "54o6KevaEsvw",
        "colab": {
          "base_uri": "https://localhost:8080/"
        },
        "outputId": "ebd146c2-0983-4f3f-9913-550d2c560c09"
      },
      "outputs": [
        {
          "output_type": "stream",
          "name": "stderr",
          "text": [
            "/usr/local/lib/python3.7/dist-packages/sklearn/preprocessing/_label.py:154: DataConversionWarning: A column-vector y was passed when a 1d array was expected. Please change the shape of y to (n_samples, ), for example using ravel().\n",
            "  y = column_or_1d(y, warn=True)\n"
          ]
        }
      ],
      "source": [
        "y_pred_rf = le6.inverse_transform(np.array(classifier_rf.predict(X_test),dtype=int))\n",
        "Y_test_rf = le6.inverse_transform(np.array(Y_test,dtype=int))"
      ]
    },
    {
      "cell_type": "code",
      "execution_count": 30,
      "metadata": {
        "id": "WxFvXuQzJr7T",
        "colab": {
          "base_uri": "https://localhost:8080/"
        },
        "outputId": "abcc7956-8437-4d40-8bcc-14b977670e56"
      },
      "outputs": [
        {
          "output_type": "stream",
          "name": "stdout",
          "text": [
            "[0. 0. 0. ... 1. 0. 0.]\n"
          ]
        }
      ],
      "source": [
        "print(y_pred_rf)"
      ]
    },
    {
      "cell_type": "code",
      "execution_count": 31,
      "metadata": {
        "id": "xt5Uti-IJsFk",
        "colab": {
          "base_uri": "https://localhost:8080/"
        },
        "outputId": "9e922b48-099d-4b67-ad0a-e0d2c4101bed"
      },
      "outputs": [
        {
          "output_type": "stream",
          "name": "stdout",
          "text": [
            "[0. 0. 0. ... 1. 0. 1.]\n"
          ]
        }
      ],
      "source": [
        "print(Y_test_rf)"
      ]
    },
    {
      "cell_type": "code",
      "execution_count": 32,
      "metadata": {
        "id": "h6ZPXyGhFdtK"
      },
      "outputs": [],
      "source": [
        "y_pred_rf = y_pred_rf.reshape(-1,1)\n",
        "Y_test_rf = Y_test_rf.reshape(-1,1)"
      ]
    },
    {
      "cell_type": "code",
      "execution_count": 33,
      "metadata": {
        "id": "oQsshF72E3Le"
      },
      "outputs": [],
      "source": [
        "df = np.concatenate((Y_test_rf,y_pred_rf),axis=1)\n",
        "dataframe = pd.DataFrame(df,columns=['Rain on Tommorrow','Predition of Rain'])"
      ]
    },
    {
      "cell_type": "code",
      "execution_count": 34,
      "metadata": {
        "id": "H_xbsXHSFVqu",
        "colab": {
          "base_uri": "https://localhost:8080/"
        },
        "outputId": "78ae1cfd-0c9c-4b12-9f7a-0dd18b51e104"
      },
      "outputs": [
        {
          "output_type": "stream",
          "name": "stdout",
          "text": [
            "       Rain on Tommorrow  Predition of Rain\n",
            "0                    0.0                0.0\n",
            "1                    0.0                0.0\n",
            "2                    0.0                0.0\n",
            "3                    0.0                0.0\n",
            "4                    1.0                1.0\n",
            "...                  ...                ...\n",
            "13055                0.0                0.0\n",
            "13056                0.0                0.0\n",
            "13057                1.0                1.0\n",
            "13058                0.0                0.0\n",
            "13059                1.0                0.0\n",
            "\n",
            "[13060 rows x 2 columns]\n"
          ]
        }
      ],
      "source": [
        "print(dataframe)"
      ]
    },
    {
      "cell_type": "markdown",
      "metadata": {
        "id": "yd9wEmlNFyE1"
      },
      "source": [
        "Calculating Accuracy of random forest"
      ]
    },
    {
      "cell_type": "code",
      "execution_count": 35,
      "metadata": {
        "id": "8dpLQaQiFpPV",
        "colab": {
          "base_uri": "https://localhost:8080/"
        },
        "outputId": "bbde4209-4059-4cb8-cd85-350edbd427dc"
      },
      "outputs": [
        {
          "output_type": "execute_result",
          "data": {
            "text/plain": [
              "0.8490045941807044"
            ]
          },
          "metadata": {},
          "execution_count": 35
        }
      ],
      "source": [
        "from sklearn.metrics import accuracy_score\n",
        "acc_rfs=accuracy_score(Y_test_rf,y_pred_rf)\n",
        "acc_rfs"
      ]
    },
    {
      "cell_type": "code",
      "execution_count": 36,
      "metadata": {
        "id": "eCTjPeUjUM3Z",
        "colab": {
          "base_uri": "https://localhost:8080/"
        },
        "outputId": "98a5421f-613a-4e17-c7ff-1f7784dec88f"
      },
      "outputs": [
        {
          "output_type": "stream",
          "name": "stdout",
          "text": [
            "[[9803  434]\n",
            " [1538 1285]]\n"
          ]
        }
      ],
      "source": [
        "from sklearn.metrics import confusion_matrix,plot_confusion_matrix\n",
        "cm=confusion_matrix(Y_test_rf,y_pred_rf)\n",
        "print(cm)\n"
      ]
    },
    {
      "cell_type": "code",
      "source": [
        "group_names = ['True Pos','False Neg','False Pos','True Neg']\n",
        "group_counts = [\"{0:0.0f}\".format(value) for value in\n",
        "                cm.flatten()]\n",
        "group_percentages = ['{0:.2%}'.format(value) for value in\n",
        "                     cm.flatten()/np.sum(cm)]\n",
        "labels = [f\"{v1}\\n{v2}\\n{v3}\" for v1, v2, v3 in\n",
        "          zip(group_names,group_counts,group_percentages)]\n",
        "labels = np.asarray(labels).reshape(2,2)\n",
        "sns.heatmap(cm, annot=labels, fmt=\"\", cmap='Blues');"
      ],
      "metadata": {
        "id": "XyPJP3x5WgZw",
        "colab": {
          "base_uri": "https://localhost:8080/",
          "height": 265
        },
        "outputId": "dc9a7d0c-7c86-4603-ed0b-01f8d3eeb9e8"
      },
      "execution_count": 37,
      "outputs": [
        {
          "output_type": "display_data",
          "data": {
            "text/plain": [
              "<Figure size 432x288 with 2 Axes>"
            ],
            "image/png": "[encoded data removed]"
          },
          "metadata": {
            "needs_background": "light"
          }
        }
      ]
    },
    {
      "cell_type": "code",
      "execution_count": 38,
      "metadata": {
        "id": "5daOdUGxUM3d",
        "colab": {
          "base_uri": "https://localhost:8080/"
        },
        "outputId": "37afd3ef-e733-4731-fa09-61be3a3a736e"
      },
      "outputs": [
        {
          "output_type": "stream",
          "name": "stdout",
          "text": [
            "              precision    recall  f1-score   support\n",
            "\n",
            "         0.0       0.86      0.96      0.91     10237\n",
            "         1.0       0.75      0.46      0.57      2823\n",
            "\n",
            "    accuracy                           0.85     13060\n",
            "   macro avg       0.81      0.71      0.74     13060\n",
            "weighted avg       0.84      0.85      0.83     13060\n",
            "\n"
          ]
        }
      ],
      "source": [
        "from sklearn.metrics import classification_report\n",
        "print(classification_report(Y_test_rf,y_pred_rf))"
      ]
    },
    {
      "cell_type": "markdown",
      "source": [
        "# **Logisitic Regression**"
      ],
      "metadata": {
        "id": "HN8lM5VjVMi1"
      }
    },
    {
      "cell_type": "code",
      "execution_count": 39,
      "metadata": {
        "id": "0EAkqZYQUM3e",
        "colab": {
          "base_uri": "https://localhost:8080/"
        },
        "outputId": "319213be-fa68-420d-b184-f8ad58412a41"
      },
      "outputs": [
        {
          "output_type": "stream",
          "name": "stderr",
          "text": [
            "/usr/local/lib/python3.7/dist-packages/sklearn/utils/validation.py:993: DataConversionWarning: A column-vector y was passed when a 1d array was expected. Please change the shape of y to (n_samples, ), for example using ravel().\n",
            "  y = column_or_1d(y, warn=True)\n"
          ]
        },
        {
          "output_type": "execute_result",
          "data": {
            "text/plain": [
              "LogisticRegression(random_state=0)"
            ]
          },
          "metadata": {},
          "execution_count": 39
        }
      ],
      "source": [
        "from sklearn.linear_model import LogisticRegression  \n",
        "classifier_lr = LogisticRegression(random_state=0)  \n",
        "classifier_lr.fit(X_train, Y_train)"
      ]
    },
    {
      "cell_type": "code",
      "execution_count": 40,
      "metadata": {
        "id": "iR3f9Rg5UM3f",
        "colab": {
          "base_uri": "https://localhost:8080/"
        },
        "outputId": "cd0ca362-83b4-4e7e-e328-6e832b42dd60"
      },
      "outputs": [
        {
          "output_type": "execute_result",
          "data": {
            "text/plain": [
              "0.8333014280791761"
            ]
          },
          "metadata": {},
          "execution_count": 40
        }
      ],
      "source": [
        "classifier_lr.score(X_train,Y_train)"
      ]
    },
    {
      "cell_type": "code",
      "execution_count": 41,
      "metadata": {
        "id": "VZAMDObSUM3g",
        "colab": {
          "base_uri": "https://localhost:8080/"
        },
        "outputId": "156310cf-27ba-4f9d-f365-819c3001ff0c"
      },
      "outputs": [
        {
          "output_type": "stream",
          "name": "stderr",
          "text": [
            "/usr/local/lib/python3.7/dist-packages/sklearn/preprocessing/_label.py:154: DataConversionWarning: A column-vector y was passed when a 1d array was expected. Please change the shape of y to (n_samples, ), for example using ravel().\n",
            "  y = column_or_1d(y, warn=True)\n"
          ]
        }
      ],
      "source": [
        "y_pred_lr = le6.inverse_transform(np.array(classifier_lr.predict(X_test),dtype=int))\n",
        "Y_test_lr = le6.inverse_transform(np.array(Y_test,dtype=int))"
      ]
    },
    {
      "cell_type": "code",
      "execution_count": 42,
      "metadata": {
        "id": "OWZIXlM0UM3h",
        "colab": {
          "base_uri": "https://localhost:8080/"
        },
        "outputId": "56479cc7-02ef-45b2-a7a2-7827c187a9fe"
      },
      "outputs": [
        {
          "output_type": "stream",
          "name": "stdout",
          "text": [
            "[0. 0. 0. ... 0. 0. 0.]\n"
          ]
        }
      ],
      "source": [
        "print(y_pred_lr)"
      ]
    },
    {
      "cell_type": "code",
      "execution_count": 43,
      "metadata": {
        "id": "JkfEj6E-UM3h",
        "colab": {
          "base_uri": "https://localhost:8080/"
        },
        "outputId": "dd6de61d-02d2-444d-d8e6-d9cb606f2478"
      },
      "outputs": [
        {
          "output_type": "stream",
          "name": "stdout",
          "text": [
            "[0. 0. 0. ... 1. 0. 1.]\n"
          ]
        }
      ],
      "source": [
        "print(Y_test_lr)"
      ]
    },
    {
      "cell_type": "code",
      "execution_count": 44,
      "metadata": {
        "id": "5X6q4npWUM3i"
      },
      "outputs": [],
      "source": [
        "y_pred_lr = y_pred_lr.reshape(-1,1)\n",
        "Y_test_lr = Y_test_lr.reshape(-1,1)"
      ]
    },
    {
      "cell_type": "code",
      "execution_count": 45,
      "metadata": {
        "id": "VQN_3topUM3i"
      },
      "outputs": [],
      "source": [
        "df = np.concatenate((Y_test_lr,y_pred_lr),axis=1)\n",
        "dataframe = pd.DataFrame(df,columns=['Rain on Tommorrow','Predition of Rain'])"
      ]
    },
    {
      "cell_type": "code",
      "execution_count": 46,
      "metadata": {
        "id": "Ztkl2K0rUM3j",
        "colab": {
          "base_uri": "https://localhost:8080/"
        },
        "outputId": "b13a3db3-6b11-4507-d74e-d35a46626e8f"
      },
      "outputs": [
        {
          "output_type": "stream",
          "name": "stdout",
          "text": [
            "       Rain on Tommorrow  Predition of Rain\n",
            "0                    0.0                0.0\n",
            "1                    0.0                0.0\n",
            "2                    0.0                0.0\n",
            "3                    0.0                0.0\n",
            "4                    1.0                1.0\n",
            "...                  ...                ...\n",
            "13055                0.0                0.0\n",
            "13056                0.0                0.0\n",
            "13057                1.0                0.0\n",
            "13058                0.0                0.0\n",
            "13059                1.0                0.0\n",
            "\n",
            "[13060 rows x 2 columns]\n"
          ]
        }
      ],
      "source": [
        "print(dataframe)"
      ]
    },
    {
      "cell_type": "code",
      "execution_count": 47,
      "metadata": {
        "id": "AKgPBp4kUM3j",
        "colab": {
          "base_uri": "https://localhost:8080/"
        },
        "outputId": "fb1601ad-0e17-4602-864f-6d67c1a5160c"
      },
      "outputs": [
        {
          "output_type": "execute_result",
          "data": {
            "text/plain": [
              "0.836906584992343"
            ]
          },
          "metadata": {},
          "execution_count": 47
        }
      ],
      "source": [
        "from sklearn.metrics import accuracy_score\n",
        "acc_lr=accuracy_score(Y_test_lr,y_pred_lr)\n",
        "acc_lr"
      ]
    },
    {
      "cell_type": "code",
      "execution_count": 48,
      "metadata": {
        "id": "v0MSXURIUM3k",
        "colab": {
          "base_uri": "https://localhost:8080/"
        },
        "outputId": "56b6d02e-48ea-4ae5-b0a9-949870bdffc6"
      },
      "outputs": [
        {
          "output_type": "stream",
          "name": "stdout",
          "text": [
            "[[9740  497]\n",
            " [1633 1190]]\n"
          ]
        }
      ],
      "source": [
        "from sklearn.metrics import confusion_matrix,plot_confusion_matrix\n",
        "cm_lr=confusion_matrix(Y_test_lr,y_pred_lr)\n",
        "print(cm_lr)\n"
      ]
    },
    {
      "cell_type": "code",
      "execution_count": 49,
      "metadata": {
        "id": "O_Gf85Z0UM3k",
        "colab": {
          "base_uri": "https://localhost:8080/",
          "height": 265
        },
        "outputId": "755582a2-9970-4d02-cfe8-bb4fda2ac9dd"
      },
      "outputs": [
        {
          "output_type": "display_data",
          "data": {
            "text/plain": [
              "<Figure size 432x288 with 2 Axes>"
            ],
            "image/png": "[encoded data removed]"
          },
          "metadata": {
            "needs_background": "light"
          }
        }
      ],
      "source": [
        "group_names = ['True Pos','False Neg','False Pos','True Neg']\n",
        "group_counts = [\"{0:0.0f}\".format(value) for value in\n",
        "                cm_lr.flatten()]\n",
        "group_percentages = ['{0:.2%}'.format(value) for value in\n",
        "                     cm_lr.flatten()/np.sum(cm_lr)]\n",
        "labels = [f\"{v1}\\n{v2}\\n{v3}\" for v1, v2, v3 in\n",
        "          zip(group_names,group_counts,group_percentages)]\n",
        "labels = np.asarray(labels).reshape(2,2)\n",
        "sns.heatmap(cm, annot=labels, fmt=\"\", cmap='Reds');"
      ]
    },
    {
      "cell_type": "code",
      "execution_count": 50,
      "metadata": {
        "id": "Kzpu2Y0pUM3m",
        "colab": {
          "base_uri": "https://localhost:8080/"
        },
        "outputId": "63a258bb-a4fd-4712-f963-c6cf0df7cf5d"
      },
      "outputs": [
        {
          "output_type": "stream",
          "name": "stdout",
          "text": [
            "              precision    recall  f1-score   support\n",
            "\n",
            "         0.0       0.86      0.95      0.90     10237\n",
            "         1.0       0.71      0.42      0.53      2823\n",
            "\n",
            "    accuracy                           0.84     13060\n",
            "   macro avg       0.78      0.69      0.71     13060\n",
            "weighted avg       0.82      0.84      0.82     13060\n",
            "\n"
          ]
        }
      ],
      "source": [
        "from sklearn.metrics import classification_report\n",
        "print(classification_report(Y_test_lr,y_pred_lr))"
      ]
    },
    {
      "cell_type": "markdown",
      "source": [
        "# **DecisionTree Classifier**"
      ],
      "metadata": {
        "id": "3WPc5rw_bvI0"
      }
    },
    {
      "cell_type": "code",
      "execution_count": 51,
      "metadata": {
        "id": "8b9XkER3UM3m",
        "colab": {
          "base_uri": "https://localhost:8080/"
        },
        "outputId": "7dcc464a-6b37-4095-e1af-d59fb7f87c8e"
      },
      "outputs": [
        {
          "output_type": "execute_result",
          "data": {
            "text/plain": [
              "DecisionTreeClassifier(criterion='entropy', random_state=0)"
            ]
          },
          "metadata": {},
          "execution_count": 51
        }
      ],
      "source": [
        "from sklearn.tree import DecisionTreeClassifier  \n",
        "classifier_dt = DecisionTreeClassifier(criterion='entropy', random_state=0)  \n",
        "classifier_dt.fit(X_train, Y_train)  "
      ]
    },
    {
      "cell_type": "code",
      "execution_count": 52,
      "metadata": {
        "id": "A1_Owql8UM3n",
        "colab": {
          "base_uri": "https://localhost:8080/"
        },
        "outputId": "1614e4a5-e092-4bc0-a5e6-67b141e75c52"
      },
      "outputs": [
        {
          "output_type": "execute_result",
          "data": {
            "text/plain": [
              "0.9998468547800452"
            ]
          },
          "metadata": {},
          "execution_count": 52
        }
      ],
      "source": [
        "classifier_dt.score(X_train,Y_train)"
      ]
    },
    {
      "cell_type": "code",
      "execution_count": 53,
      "metadata": {
        "id": "-Nu4WH8kUM3p",
        "colab": {
          "base_uri": "https://localhost:8080/"
        },
        "outputId": "f3b21dc5-016f-4e0b-c841-35a662c7d970"
      },
      "outputs": [
        {
          "output_type": "stream",
          "name": "stderr",
          "text": [
            "/usr/local/lib/python3.7/dist-packages/sklearn/preprocessing/_label.py:154: DataConversionWarning: A column-vector y was passed when a 1d array was expected. Please change the shape of y to (n_samples, ), for example using ravel().\n",
            "  y = column_or_1d(y, warn=True)\n"
          ]
        }
      ],
      "source": [
        "y_pred_dt = le6.inverse_transform(np.array(classifier_dt.predict(X_test),dtype=int))\n",
        "Y_test_dt = le6.inverse_transform(np.array(Y_test,dtype=int))"
      ]
    },
    {
      "cell_type": "code",
      "execution_count": 54,
      "metadata": {
        "id": "--QdrSKUUM3q",
        "colab": {
          "base_uri": "https://localhost:8080/"
        },
        "outputId": "6048b153-3a92-4055-a5f8-fe6dc7d185ce"
      },
      "outputs": [
        {
          "output_type": "stream",
          "name": "stdout",
          "text": [
            "[0. 0. 0. ... 0. 0. 1.]\n"
          ]
        }
      ],
      "source": [
        "print(y_pred_dt)"
      ]
    },
    {
      "cell_type": "code",
      "execution_count": 55,
      "metadata": {
        "id": "1UsBkFqrUM3s",
        "colab": {
          "base_uri": "https://localhost:8080/"
        },
        "outputId": "87968f62-9f08-45ab-b7a1-6fabcd0a3e7c"
      },
      "outputs": [
        {
          "output_type": "stream",
          "name": "stdout",
          "text": [
            "[0. 0. 0. ... 1. 0. 1.]\n"
          ]
        }
      ],
      "source": [
        "print(Y_test_dt)"
      ]
    },
    {
      "cell_type": "code",
      "execution_count": 56,
      "metadata": {
        "id": "cuS1ZhUGUM3u"
      },
      "outputs": [],
      "source": [
        "y_pred_dt = y_pred_dt.reshape(-1,1)\n",
        "Y_test_dt = Y_test_dt.reshape(-1,1)"
      ]
    },
    {
      "cell_type": "code",
      "execution_count": 57,
      "metadata": {
        "id": "GhJo6wZSUM3x"
      },
      "outputs": [],
      "source": [
        "df = np.concatenate((Y_test_dt,y_pred_dt),axis=1)\n",
        "dataframe = pd.DataFrame(df,columns=['Rain on Tommorrow','Predition of Rain'])"
      ]
    },
    {
      "cell_type": "code",
      "execution_count": 58,
      "metadata": {
        "id": "DKbvlXmjUM3y",
        "colab": {
          "base_uri": "https://localhost:8080/"
        },
        "outputId": "26d73ab6-2f71-4eef-ac6a-e3bd66b027a9"
      },
      "outputs": [
        {
          "output_type": "stream",
          "name": "stdout",
          "text": [
            "       Rain on Tommorrow  Predition of Rain\n",
            "0                    0.0                0.0\n",
            "1                    0.0                0.0\n",
            "2                    0.0                0.0\n",
            "3                    0.0                0.0\n",
            "4                    1.0                1.0\n",
            "...                  ...                ...\n",
            "13055                0.0                0.0\n",
            "13056                0.0                0.0\n",
            "13057                1.0                0.0\n",
            "13058                0.0                0.0\n",
            "13059                1.0                1.0\n",
            "\n",
            "[13060 rows x 2 columns]\n"
          ]
        }
      ],
      "source": [
        "print(dataframe)"
      ]
    },
    {
      "cell_type": "code",
      "execution_count": 59,
      "metadata": {
        "id": "xXZLoj5aUM30",
        "colab": {
          "base_uri": "https://localhost:8080/"
        },
        "outputId": "bf2cd796-6ef3-4189-d620-9aec87825242"
      },
      "outputs": [
        {
          "output_type": "execute_result",
          "data": {
            "text/plain": [
              "0.7798621745788668"
            ]
          },
          "metadata": {},
          "execution_count": 59
        }
      ],
      "source": [
        "from sklearn.metrics import accuracy_score\n",
        "acc_dt=accuracy_score(Y_test_dt,y_pred_dt)\n",
        "acc_dt"
      ]
    },
    {
      "cell_type": "code",
      "execution_count": 60,
      "metadata": {
        "scrolled": true,
        "id": "LzAE81QXUM31",
        "colab": {
          "base_uri": "https://localhost:8080/"
        },
        "outputId": "99e47ccd-300c-4e40-8cab-704b6c3a723e"
      },
      "outputs": [
        {
          "output_type": "stream",
          "name": "stdout",
          "text": [
            "[[8785 1452]\n",
            " [1423 1400]]\n"
          ]
        }
      ],
      "source": [
        "from sklearn.metrics import confusion_matrix,plot_confusion_matrix\n",
        "cm_dt=confusion_matrix(Y_test_dt,y_pred_dt)\n",
        "print(cm_dt)"
      ]
    },
    {
      "cell_type": "code",
      "execution_count": 61,
      "metadata": {
        "id": "zgJo11PeUM33",
        "colab": {
          "base_uri": "https://localhost:8080/",
          "height": 265
        },
        "outputId": "30f2f5fa-0892-4f11-deb7-c31b36aea58b"
      },
      "outputs": [
        {
          "output_type": "display_data",
          "data": {
            "text/plain": [
              "<Figure size 432x288 with 2 Axes>"
            ],
            "image/png": "[encoded data removed]"
          },
          "metadata": {
            "needs_background": "light"
          }
        }
      ],
      "source": [
        "group_names = ['True Pos','False Neg','False Pos','True Neg']\n",
        "group_counts = [\"{0:0.0f}\".format(value) for value in\n",
        "                cm_dt.flatten()]\n",
        "group_percentages = ['{0:.2%}'.format(value) for value in\n",
        "                     cm_dt.flatten()/np.sum(cm_dt)]\n",
        "labels = [f\"{v1}\\n{v2}\\n{v3}\" for v1, v2, v3 in\n",
        "          zip(group_names,group_counts,group_percentages)]\n",
        "labels = np.asarray(labels).reshape(2,2)\n",
        "sns.heatmap(cm_dt, annot=labels, fmt=\"\", cmap='Purples');"
      ]
    },
    {
      "cell_type": "code",
      "execution_count": 62,
      "metadata": {
        "id": "dTnkPSEKUM34",
        "colab": {
          "base_uri": "https://localhost:8080/"
        },
        "outputId": "1bb37983-4484-4ad1-f98f-a5a862ca9464"
      },
      "outputs": [
        {
          "output_type": "stream",
          "name": "stdout",
          "text": [
            "              precision    recall  f1-score   support\n",
            "\n",
            "         0.0       0.86      0.86      0.86     10237\n",
            "         1.0       0.49      0.50      0.49      2823\n",
            "\n",
            "    accuracy                           0.78     13060\n",
            "   macro avg       0.68      0.68      0.68     13060\n",
            "weighted avg       0.78      0.78      0.78     13060\n",
            "\n"
          ]
        }
      ],
      "source": [
        "from sklearn.metrics import classification_report\n",
        "print(classification_report(Y_test_dt,y_pred_dt))"
      ]
    },
    {
      "cell_type": "markdown",
      "source": [
        "# **Light Gbm**"
      ],
      "metadata": {
        "id": "mQB6hxOUcg4W"
      }
    },
    {
      "cell_type": "code",
      "execution_count": 63,
      "metadata": {
        "id": "VYmnMCnAUM35",
        "colab": {
          "base_uri": "https://localhost:8080/"
        },
        "outputId": "802d219f-4202-4a12-d804-34e1a40d5d4c"
      },
      "outputs": [
        {
          "output_type": "stream",
          "name": "stdout",
          "text": [
            "Looking in indexes: https://pypi.org/simple, https://us-python.pkg.dev/colab-wheels/public/simple/\n",
            "Requirement already satisfied: lightgbm in /usr/local/lib/python3.7/dist-packages (2.2.3)\n",
            "Requirement already satisfied: numpy in /usr/local/lib/python3.7/dist-packages (from lightgbm) (1.21.6)\n",
            "Requirement already satisfied: scikit-learn in /usr/local/lib/python3.7/dist-packages (from lightgbm) (1.0.2)\n",
            "Requirement already satisfied: scipy in /usr/local/lib/python3.7/dist-packages (from lightgbm) (1.7.3)\n",
            "Requirement already satisfied: threadpoolctl>=2.0.0 in /usr/local/lib/python3.7/dist-packages (from scikit-learn->lightgbm) (3.1.0)\n",
            "Requirement already satisfied: joblib>=0.11 in /usr/local/lib/python3.7/dist-packages (from scikit-learn->lightgbm) (1.1.0)\n"
          ]
        }
      ],
      "source": [
        "!pip install lightgbm"
      ]
    },
    {
      "cell_type": "code",
      "execution_count": 64,
      "metadata": {
        "id": "qlGnpBPzUM35",
        "colab": {
          "base_uri": "https://localhost:8080/"
        },
        "outputId": "3478420b-ad88-45c1-a79e-599a482ad466"
      },
      "outputs": [
        {
          "output_type": "stream",
          "name": "stderr",
          "text": [
            "/usr/local/lib/python3.7/dist-packages/sklearn/preprocessing/_label.py:98: DataConversionWarning: A column-vector y was passed when a 1d array was expected. Please change the shape of y to (n_samples, ), for example using ravel().\n",
            "  y = column_or_1d(y, warn=True)\n",
            "/usr/local/lib/python3.7/dist-packages/sklearn/preprocessing/_label.py:133: DataConversionWarning: A column-vector y was passed when a 1d array was expected. Please change the shape of y to (n_samples, ), for example using ravel().\n",
            "  y = column_or_1d(y, warn=True)\n"
          ]
        },
        {
          "output_type": "execute_result",
          "data": {
            "text/plain": [
              "LGBMClassifier(random_state=0)"
            ]
          },
          "metadata": {},
          "execution_count": 64
        }
      ],
      "source": [
        "from lightgbm import LGBMClassifier\n",
        "classifier_lgbm = LGBMClassifier(random_state =0)\n",
        "classifier_lgbm.fit(X_train, Y_train)"
      ]
    },
    {
      "cell_type": "code",
      "execution_count": 65,
      "metadata": {
        "id": "toPqw68SUM36",
        "colab": {
          "base_uri": "https://localhost:8080/"
        },
        "outputId": "aed9c989-de05-487a-9d29-9751c131921e"
      },
      "outputs": [
        {
          "output_type": "execute_result",
          "data": {
            "text/plain": [
              "0.8674145258241127"
            ]
          },
          "metadata": {},
          "execution_count": 65
        }
      ],
      "source": [
        "classifier_lgbm.score(X_train,Y_train)"
      ]
    },
    {
      "cell_type": "code",
      "execution_count": 66,
      "metadata": {
        "id": "mv4LyQxAUM37",
        "colab": {
          "base_uri": "https://localhost:8080/"
        },
        "outputId": "bafa862b-96ef-402e-a4c1-66c009d1dd70"
      },
      "outputs": [
        {
          "output_type": "stream",
          "name": "stderr",
          "text": [
            "/usr/local/lib/python3.7/dist-packages/sklearn/preprocessing/_label.py:154: DataConversionWarning: A column-vector y was passed when a 1d array was expected. Please change the shape of y to (n_samples, ), for example using ravel().\n",
            "  y = column_or_1d(y, warn=True)\n"
          ]
        }
      ],
      "source": [
        "y_pred_lgbm = le6.inverse_transform(np.array(classifier_lgbm.predict(X_test),dtype=int))\n",
        "Y_test_lgbm = le6.inverse_transform(np.array(Y_test,dtype=int))"
      ]
    },
    {
      "cell_type": "code",
      "execution_count": 67,
      "metadata": {
        "id": "ZzUvHU2AUM38",
        "colab": {
          "base_uri": "https://localhost:8080/"
        },
        "outputId": "394dc537-1202-49fa-c83d-ab68a2f36e3f"
      },
      "outputs": [
        {
          "output_type": "stream",
          "name": "stdout",
          "text": [
            "[0. 0. 0. ... 0. 0. 0.]\n"
          ]
        }
      ],
      "source": [
        "print(y_pred_lgbm)"
      ]
    },
    {
      "cell_type": "code",
      "execution_count": 68,
      "metadata": {
        "id": "TTAKsGYaUM39",
        "colab": {
          "base_uri": "https://localhost:8080/"
        },
        "outputId": "bebed604-3e39-41fc-9dd3-e813d8143866"
      },
      "outputs": [
        {
          "output_type": "stream",
          "name": "stdout",
          "text": [
            "[0. 0. 0. ... 1. 0. 1.]\n"
          ]
        }
      ],
      "source": [
        "print(Y_test_lgbm)"
      ]
    },
    {
      "cell_type": "code",
      "execution_count": 69,
      "metadata": {
        "id": "rqzmue4pUM3_"
      },
      "outputs": [],
      "source": [
        "y_pred_lgbm = y_pred_lgbm.reshape(-1,1)\n",
        "Y_test_lgbm = Y_test_lgbm.reshape(-1,1)"
      ]
    },
    {
      "cell_type": "code",
      "execution_count": 70,
      "metadata": {
        "id": "AZTNJVUAUM3_"
      },
      "outputs": [],
      "source": [
        "df = np.concatenate((Y_test_lgbm,y_pred_lgbm),axis=1)\n",
        "dataframe = pd.DataFrame(df,columns=['Rain on Tommorrow','Predition of Rain'])"
      ]
    },
    {
      "cell_type": "code",
      "execution_count": 71,
      "metadata": {
        "id": "sR8zjv3oUM4A",
        "colab": {
          "base_uri": "https://localhost:8080/"
        },
        "outputId": "c1567f5e-0bb9-4762-dda7-ef3ee84185e5"
      },
      "outputs": [
        {
          "output_type": "stream",
          "name": "stdout",
          "text": [
            "       Rain on Tommorrow  Predition of Rain\n",
            "0                    0.0                0.0\n",
            "1                    0.0                0.0\n",
            "2                    0.0                0.0\n",
            "3                    0.0                1.0\n",
            "4                    1.0                1.0\n",
            "...                  ...                ...\n",
            "13055                0.0                0.0\n",
            "13056                0.0                0.0\n",
            "13057                1.0                0.0\n",
            "13058                0.0                0.0\n",
            "13059                1.0                0.0\n",
            "\n",
            "[13060 rows x 2 columns]\n"
          ]
        }
      ],
      "source": [
        "print(dataframe)"
      ]
    },
    {
      "cell_type": "code",
      "execution_count": 72,
      "metadata": {
        "id": "dhOoiifyUM4A",
        "colab": {
          "base_uri": "https://localhost:8080/"
        },
        "outputId": "4cb89ceb-a09f-4138-9ba8-fbb60cb2f7de"
      },
      "outputs": [
        {
          "output_type": "execute_result",
          "data": {
            "text/plain": [
              "0.8509954058192956"
            ]
          },
          "metadata": {},
          "execution_count": 72
        }
      ],
      "source": [
        "from sklearn.metrics import accuracy_score\n",
        "acc_lg=accuracy_score(Y_test_lgbm,y_pred_lgbm)\n",
        "acc_lg"
      ]
    },
    {
      "cell_type": "code",
      "execution_count": 73,
      "metadata": {
        "id": "C3GSCsBpUM4B",
        "colab": {
          "base_uri": "https://localhost:8080/"
        },
        "outputId": "1e18a5cd-af80-4a2f-a0a3-48bfb19e004d"
      },
      "outputs": [
        {
          "output_type": "stream",
          "name": "stdout",
          "text": [
            "[[9762  475]\n",
            " [1471 1352]]\n"
          ]
        }
      ],
      "source": [
        "from sklearn.metrics import confusion_matrix,plot_confusion_matrix\n",
        "cm_lg=confusion_matrix(Y_test_lgbm,y_pred_lgbm)\n",
        "print(cm_lg)"
      ]
    },
    {
      "cell_type": "code",
      "execution_count": 74,
      "metadata": {
        "id": "lLXaditXUM4B",
        "colab": {
          "base_uri": "https://localhost:8080/",
          "height": 265
        },
        "outputId": "99f348b3-f1a4-48e3-a012-7247a472f4c0"
      },
      "outputs": [
        {
          "output_type": "display_data",
          "data": {
            "text/plain": [
              "<Figure size 432x288 with 2 Axes>"
            ],
            "image/png": "[encoded data removed]"
          },
          "metadata": {
            "needs_background": "light"
          }
        }
      ],
      "source": [
        "group_names = ['True Pos','False Neg','False Pos','True Neg']\n",
        "group_counts = [\"{0:0.0f}\".format(value) for value in\n",
        "                cm_lg.flatten()]\n",
        "group_percentages = ['{0:.2%}'.format(value) for value in\n",
        "                     cm_lg.flatten()/np.sum(cm)]\n",
        "labels = [f\"{v1}\\n{v2}\\n{v3}\" for v1, v2, v3 in\n",
        "          zip(group_names,group_counts,group_percentages)]\n",
        "labels = np.asarray(labels).reshape(2,2)\n",
        "sns.heatmap(cm_lg, annot=labels, fmt=\"\", cmap='Greens');"
      ]
    },
    {
      "cell_type": "code",
      "execution_count": 75,
      "metadata": {
        "id": "_4gCeS93UM4D",
        "colab": {
          "base_uri": "https://localhost:8080/"
        },
        "outputId": "097ad7ca-430a-4727-9186-8fedd80605cf"
      },
      "outputs": [
        {
          "output_type": "stream",
          "name": "stdout",
          "text": [
            "              precision    recall  f1-score   support\n",
            "\n",
            "         0.0       0.87      0.95      0.91     10237\n",
            "         1.0       0.74      0.48      0.58      2823\n",
            "\n",
            "    accuracy                           0.85     13060\n",
            "   macro avg       0.80      0.72      0.75     13060\n",
            "weighted avg       0.84      0.85      0.84     13060\n",
            "\n"
          ]
        }
      ],
      "source": [
        "from sklearn.metrics import classification_report\n",
        "print(classification_report(Y_test_lgbm,y_pred_lgbm))"
      ]
    },
    {
      "cell_type": "markdown",
      "source": [
        "# **XG BOOST**"
      ],
      "metadata": {
        "id": "cQH50Rq7dpeI"
      }
    },
    {
      "cell_type": "code",
      "execution_count": 76,
      "metadata": {
        "id": "aVAGuTLTUM4D",
        "colab": {
          "base_uri": "https://localhost:8080/"
        },
        "outputId": "b92dacff-597a-4279-b46d-e5df33f06587"
      },
      "outputs": [
        {
          "output_type": "stream",
          "name": "stderr",
          "text": [
            "/usr/local/lib/python3.7/dist-packages/sklearn/utils/validation.py:993: DataConversionWarning: A column-vector y was passed when a 1d array was expected. Please change the shape of y to (n_samples, ), for example using ravel().\n",
            "  y = column_or_1d(y, warn=True)\n"
          ]
        },
        {
          "output_type": "execute_result",
          "data": {
            "text/plain": [
              "GaussianNB()"
            ]
          },
          "metadata": {},
          "execution_count": 76
        }
      ],
      "source": [
        "from sklearn.naive_bayes import GaussianNB\n",
        "classifier_nb = GaussianNB()\n",
        "classifier_nb.fit(X_train, Y_train)"
      ]
    },
    {
      "cell_type": "code",
      "source": [
        "classifier_nb.score(X_train,Y_train)"
      ],
      "metadata": {
        "colab": {
          "base_uri": "https://localhost:8080/"
        },
        "id": "Veg81AnVUuxJ",
        "outputId": "baec2ab2-1908-43d8-ce81-e770411151f4"
      },
      "execution_count": 77,
      "outputs": [
        {
          "output_type": "execute_result",
          "data": {
            "text/plain": [
              "0.8029786745281213"
            ]
          },
          "metadata": {},
          "execution_count": 77
        }
      ]
    },
    {
      "cell_type": "code",
      "execution_count": 78,
      "metadata": {
        "id": "v8X92cjtUM4E",
        "colab": {
          "base_uri": "https://localhost:8080/"
        },
        "outputId": "bed3ecf1-53f5-4b52-d234-3fd38ececae1"
      },
      "outputs": [
        {
          "output_type": "stream",
          "name": "stderr",
          "text": [
            "/usr/local/lib/python3.7/dist-packages/sklearn/preprocessing/_label.py:154: DataConversionWarning: A column-vector y was passed when a 1d array was expected. Please change the shape of y to (n_samples, ), for example using ravel().\n",
            "  y = column_or_1d(y, warn=True)\n"
          ]
        }
      ],
      "source": [
        "y_pred_nb = le6.inverse_transform(np.array(classifier_nb.predict(X_test),dtype=int))\n",
        "Y_test_nb = le6.inverse_transform(np.array(Y_test,dtype=int))"
      ]
    },
    {
      "cell_type": "code",
      "execution_count": 79,
      "metadata": {
        "id": "C0po3rYuUM4F",
        "colab": {
          "base_uri": "https://localhost:8080/"
        },
        "outputId": "7ed59272-5606-4813-9aa6-ab7e122b54ed"
      },
      "outputs": [
        {
          "output_type": "stream",
          "name": "stdout",
          "text": [
            "[0. 0. 0. ... 1. 0. 0.]\n"
          ]
        }
      ],
      "source": [
        "print(y_pred_nb)"
      ]
    },
    {
      "cell_type": "code",
      "execution_count": 80,
      "metadata": {
        "id": "6kWHrLPZUM4F",
        "colab": {
          "base_uri": "https://localhost:8080/"
        },
        "outputId": "00407608-9d62-40d0-e915-e9b968c52e97"
      },
      "outputs": [
        {
          "output_type": "stream",
          "name": "stdout",
          "text": [
            "[0. 0. 0. ... 1. 0. 1.]\n"
          ]
        }
      ],
      "source": [
        "print(Y_test_nb)"
      ]
    },
    {
      "cell_type": "code",
      "execution_count": 81,
      "metadata": {
        "id": "8cQKKYUzUM4G"
      },
      "outputs": [],
      "source": [
        "y_pred_nb = y_pred_nb.reshape(-1,1)\n",
        "Y_test_nb = Y_test_nb.reshape(-1,1)"
      ]
    },
    {
      "cell_type": "code",
      "execution_count": 82,
      "metadata": {
        "id": "9KMGNuk6UM4G"
      },
      "outputs": [],
      "source": [
        "df = np.concatenate((Y_test_nb,y_pred_nb),axis=1)\n",
        "dataframe = pd.DataFrame(df,columns=['Rain on Tommorrow','Predition of Rain'])"
      ]
    },
    {
      "cell_type": "code",
      "execution_count": 83,
      "metadata": {
        "id": "PpvzkZudUM4H",
        "colab": {
          "base_uri": "https://localhost:8080/"
        },
        "outputId": "6fe1f044-f32d-4d79-f828-34aae0254012"
      },
      "outputs": [
        {
          "output_type": "stream",
          "name": "stdout",
          "text": [
            "       Rain on Tommorrow  Predition of Rain\n",
            "0                    0.0                0.0\n",
            "1                    0.0                0.0\n",
            "2                    0.0                0.0\n",
            "3                    0.0                0.0\n",
            "4                    1.0                1.0\n",
            "...                  ...                ...\n",
            "13055                0.0                0.0\n",
            "13056                0.0                0.0\n",
            "13057                1.0                1.0\n",
            "13058                0.0                0.0\n",
            "13059                1.0                0.0\n",
            "\n",
            "[13060 rows x 2 columns]\n"
          ]
        }
      ],
      "source": [
        "print(dataframe)"
      ]
    },
    {
      "cell_type": "code",
      "execution_count": 84,
      "metadata": {
        "id": "wU2wsjl_UM4H",
        "colab": {
          "base_uri": "https://localhost:8080/"
        },
        "outputId": "17120b4b-0faa-4140-c4ba-0a9abea127e7"
      },
      "outputs": [
        {
          "output_type": "execute_result",
          "data": {
            "text/plain": [
              "0.804594180704441"
            ]
          },
          "metadata": {},
          "execution_count": 84
        }
      ],
      "source": [
        "from sklearn.metrics import accuracy_score\n",
        "acc_nb=accuracy_score(Y_test_nb,y_pred_nb)\n",
        "acc_nb"
      ]
    },
    {
      "cell_type": "code",
      "execution_count": 85,
      "metadata": {
        "id": "2cfCh4KRUM4H",
        "colab": {
          "base_uri": "https://localhost:8080/"
        },
        "outputId": "717e2f83-0796-4223-bdd2-a17ba9dc8240"
      },
      "outputs": [
        {
          "output_type": "stream",
          "name": "stdout",
          "text": [
            "[[9135 1102]\n",
            " [1450 1373]]\n"
          ]
        }
      ],
      "source": [
        "from sklearn.metrics import confusion_matrix,plot_confusion_matrix\n",
        "cm_nb=confusion_matrix(Y_test_nb,y_pred_nb)\n",
        "print(cm_nb)"
      ]
    },
    {
      "cell_type": "code",
      "execution_count": 86,
      "metadata": {
        "id": "xwXw-mEsUM4I",
        "colab": {
          "base_uri": "https://localhost:8080/",
          "height": 266
        },
        "outputId": "97dd18d0-b02d-4782-d534-28a6d655db68"
      },
      "outputs": [
        {
          "output_type": "display_data",
          "data": {
            "text/plain": [
              "<Figure size 432x288 with 2 Axes>"
            ],
            "image/png": "[encoded data removed]"
          },
          "metadata": {
            "needs_background": "light"
          }
        }
      ],
      "source": [
        "group_names = ['True Pos','False Neg','False Pos','True Neg']\n",
        "group_counts = [\"{0:0.0f}\".format(value) for value in\n",
        "                cm_nb.flatten()]\n",
        "group_percentages = ['{0:.2%}'.format(value) for value in\n",
        "                     cm_nb.flatten()/np.sum(cm)]\n",
        "labels = [f\"{v1}\\n{v2}\\n{v3}\" for v1, v2, v3 in\n",
        "          zip(group_names,group_counts,group_percentages)]\n",
        "labels = np.asarray(labels).reshape(2,2)\n",
        "sns.heatmap(cm_nb, annot=labels, fmt=\"\", cmap='magma');"
      ]
    },
    {
      "cell_type": "code",
      "execution_count": 87,
      "metadata": {
        "id": "Qvhnl_xqUM4J",
        "colab": {
          "base_uri": "https://localhost:8080/"
        },
        "outputId": "a670dcd7-86ef-43d9-bc18-8f1ec5f0c3e2"
      },
      "outputs": [
        {
          "output_type": "stream",
          "name": "stdout",
          "text": [
            "              precision    recall  f1-score   support\n",
            "\n",
            "         0.0       0.86      0.89      0.88     10237\n",
            "         1.0       0.55      0.49      0.52      2823\n",
            "\n",
            "    accuracy                           0.80     13060\n",
            "   macro avg       0.71      0.69      0.70     13060\n",
            "weighted avg       0.80      0.80      0.80     13060\n",
            "\n"
          ]
        }
      ],
      "source": [
        "from sklearn.metrics import classification_report\n",
        "print(classification_report(Y_test_nb,y_pred_nb))"
      ]
    },
    {
      "cell_type": "markdown",
      "source": [
        "## Accuracy Comparison"
      ],
      "metadata": {
        "id": "2GsFJRYdXc_h"
      }
    },
    {
      "cell_type": "code",
      "source": [
        "accuracy_dict = {\"Logistic Regression\": acc_lr,\n",
        "                 \"Random Forest\": acc_rfs,\n",
        "                 \"Decision Trees\": acc_dt,\n",
        "                 \"LightGBM\": acc_lg,\n",
        "                 \"Naive Bayes\": acc_nb}\n",
        "\n",
        "accuracy_df = pd.DataFrame( pd.Series(accuracy_dict, index = accuracy_dict.keys()), columns = [\"Accuracy\"])\n",
        "accuracy_df"
      ],
      "metadata": {
        "id": "FMzeDWMfXiJb",
        "colab": {
          "base_uri": "https://localhost:8080/",
          "height": 206
        },
        "outputId": "e80c90e0-9b1f-4f16-f797-52dab7099bca"
      },
      "execution_count": 88,
      "outputs": [
        {
          "output_type": "execute_result",
          "data": {
            "text/plain": [
              "                     Accuracy\n",
              "Logistic Regression  0.836907\n",
              "Random Forest        0.849005\n",
              "Decision Trees       0.779862\n",
              "LightGBM             0.850995\n",
              "Naive Bayes          0.804594"
            ],
            "text/html": [
              "\n",
              "  <div id=\"df-9765e257-e624-4d20-90a6-0e5f99d79103\">\n",
              "    <div class=\"colab-df-container\">\n",
              "      <div>\n",
              "<style scoped>\n",
              "    .dataframe tbody tr th:only-of-type {\n",
              "        vertical-align: middle;\n",
              "    }\n",
              "\n",
              "    .dataframe tbody tr th {\n",
              "        vertical-align: top;\n",
              "    }\n",
              "\n",
              "    .dataframe thead th {\n",
              "        text-align: right;\n",
              "    }\n",
              "</style>\n",
              "<table border=\"1\" class=\"dataframe\">\n",
              "  <thead>\n",
              "    <tr style=\"text-align: right;\">\n",
              "      <th></th>\n",
              "      <th>Accuracy</th>\n",
              "    </tr>\n",
              "  </thead>\n",
              "  <tbody>\n",
              "    <tr>\n",
              "      <th>Logistic Regression</th>\n",
              "      <td>0.836907</td>\n",
              "    </tr>\n",
              "    <tr>\n",
              "      <th>Random Forest</th>\n",
              "      <td>0.849005</td>\n",
              "    </tr>\n",
              "    <tr>\n",
              "      <th>Decision Trees</th>\n",
              "      <td>0.779862</td>\n",
              "    </tr>\n",
              "    <tr>\n",
              "      <th>LightGBM</th>\n",
              "      <td>0.850995</td>\n",
              "    </tr>\n",
              "    <tr>\n",
              "      <th>Naive Bayes</th>\n",
              "      <td>0.804594</td>\n",
              "    </tr>\n",
              "  </tbody>\n",
              "</table>\n",
              "</div>\n",
              "      <button class=\"colab-df-convert\" onclick=\"convertToInteractive('df-9765e257-e624-4d20-90a6-0e5f99d79103')\"\n",
              "              title=\"Convert this dataframe to an interactive table.\"\n",
              "              style=\"display:none;\">\n",
              "        \n",
              "  <svg xmlns=\"http://www.w3.org/2000/svg\" height=\"24px\"viewBox=\"0 0 24 24\"\n",
              "       width=\"24px\">\n",
              "    <path d=\"M0 0h24v24H0V0z\" fill=\"none\"/>\n",
              "    <path d=\"M18.56 5.44l.94 2.06.94-2.06 2.06-.94-2.06-.94-.94-2.06-.94 2.06-2.06.94zm-11 1L8.5 8.5l.94-2.06 2.06-.94-2.06-.94L8.5 2.5l-.94 2.06-2.06.94zm10 10l.94 2.06.94-2.06 2.06-.94-2.06-.94-.94-2.06-.94 2.06-2.06.94z\"/><path d=\"M17.41 7.96l-1.37-1.37c-.4-.4-.92-.59-1.43-.59-.52 0-1.04.2-1.43.59L10.3 9.45l-7.72 7.72c-.78.78-.78 2.05 0 2.83L4 21.41c.39.39.9.59 1.41.59.51 0 1.02-.2 1.41-.59l7.78-7.78 2.81-2.81c.8-.78.8-2.07 0-2.86zM5.41 20L4 18.59l7.72-7.72 1.47 1.35L5.41 20z\"/>\n",
              "  </svg>\n",
              "      </button>\n",
              "      \n",
              "  <style>\n",
              "    .colab-df-container {\n",
              "      display:flex;\n",
              "      flex-wrap:wrap;\n",
              "      gap: 12px;\n",
              "    }\n",
              "\n",
              "    .colab-df-convert {\n",
              "      background-color: #E8F0FE;\n",
              "      border: none;\n",
              "      border-radius: 50%;\n",
              "      cursor: pointer;\n",
              "      display: none;\n",
              "      fill: #1967D2;\n",
              "      height: 32px;\n",
              "      padding: 0 0 0 0;\n",
              "      width: 32px;\n",
              "    }\n",
              "\n",
              "    .colab-df-convert:hover {\n",
              "      background-color: #E2EBFA;\n",
              "      box-shadow: 0px 1px 2px rgba(60, 64, 67, 0.3), 0px 1px 3px 1px rgba(60, 64, 67, 0.15);\n",
              "      fill: #174EA6;\n",
              "    }\n",
              "\n",
              "    [theme=dark] .colab-df-convert {\n",
              "      background-color: #3B4455;\n",
              "      fill: #D2E3FC;\n",
              "    }\n",
              "\n",
              "    [theme=dark] .colab-df-convert:hover {\n",
              "      background-color: #434B5C;\n",
              "      box-shadow: 0px 1px 3px 1px rgba(0, 0, 0, 0.15);\n",
              "      filter: drop-shadow(0px 1px 2px rgba(0, 0, 0, 0.3));\n",
              "      fill: #FFFFFF;\n",
              "    }\n",
              "  </style>\n",
              "\n",
              "      <script>\n",
              "        const buttonEl =\n",
              "          document.querySelector('#df-9765e257-e624-4d20-90a6-0e5f99d79103 button.colab-df-convert');\n",
              "        buttonEl.style.display =\n",
              "          google.colab.kernel.accessAllowed ? 'block' : 'none';\n",
              "\n",
              "        async function convertToInteractive(key) {\n",
              "          const element = document.querySelector('#df-9765e257-e624-4d20-90a6-0e5f99d79103');\n",
              "          const dataTable =\n",
              "            await google.colab.kernel.invokeFunction('convertToInteractive',\n",
              "                                                     [key], {});\n",
              "          if (!dataTable) return;\n",
              "\n",
              "          const docLinkHtml = 'Like what you see? Visit the ' +\n",
              "            '<a target=\"_blank\" href=https://colab.research.google.com/notebooks/data_table.ipynb>data table notebook</a>'\n",
              "            + ' to learn more about interactive tables.';\n",
              "          element.innerHTML = '';\n",
              "          dataTable['output_type'] = 'display_data';\n",
              "          await google.colab.output.renderOutput(dataTable, element);\n",
              "          const docLink = document.createElement('div');\n",
              "          docLink.innerHTML = docLinkHtml;\n",
              "          element.appendChild(docLink);\n",
              "        }\n",
              "      </script>\n",
              "    </div>\n",
              "  </div>\n",
              "  "
            ]
          },
          "metadata": {},
          "execution_count": 88
        }
      ]
    },
    {
      "cell_type": "code",
      "source": [
        "fig = plt.gcf();\n",
        "fig.set_size_inches(12, 8);\n",
        "\n",
        "sns.lineplot(x = accuracy_df.index, y = accuracy_df.Accuracy*100);\n",
        "sns.barplot(x = accuracy_df.index, y = accuracy_df.Accuracy*100);\n",
        "\n",
        "for i, val in enumerate(accuracy_df.index):\n",
        "    y = round(accuracy_df.loc[val].sum()*100, 3)\n",
        "    plt.text(i, y-5, str(y), ha = \"center\")"
      ],
      "metadata": {
        "colab": {
          "base_uri": "https://localhost:8080/",
          "height": 483
        },
        "id": "bgv8LHXOeYsE",
        "outputId": "4997325a-60e8-43b8-83c2-5e602e43e9c2"
      },
      "execution_count": 89,
      "outputs": [
        {
          "output_type": "display_data",
          "data": {
            "text/plain": [
              "<Figure size 864x576 with 1 Axes>"
            ],
            "image/png": "[encoded data removed]"
          },
          "metadata": {
            "needs_background": "light"
          }
        }
      ]
    },
    {
      "cell_type": "code",
      "source": [
        "import numpy as np\n",
        "from sklearn.preprocessing import StandardScaler\n",
        "test=np.array([[15,15,15,15,15,15,15,15,15,14,13,1121,11,10,15,15,15]])\n",
        "sc1 = StandardScaler()\n",
        "test = sc1.fit_transform(test)\n",
        "\n",
        "y_ans=np.array([[1]]) #what is the actual\n",
        "user_input = le6.inverse_transform(np.array(classifier_lgbm.predict(test),dtype=int)) #what we predicted\n",
        "user_input=user_input.reshape(-1,1)\n",
        "y_ans=y_ans.reshape(-1,1)\n"
      ],
      "metadata": {
        "id": "9FLHkVwWmRzy"
      },
      "execution_count": 90,
      "outputs": []
    },
    {
      "cell_type": "code",
      "source": [
        "from sklearn.metrics import accuracy_score\n",
        "acc_ans=accuracy_score(y_ans,user_input)\n",
        "print(acc_ans)"
      ],
      "metadata": {
        "colab": {
          "base_uri": "https://localhost:8080/"
        },
        "id": "EhnNaJ-4LCnV",
        "outputId": "a6d5e76f-6d00-4c2f-e25c-1a5028d9d8b7"
      },
      "execution_count": 91,
      "outputs": [
        {
          "output_type": "stream",
          "name": "stdout",
          "text": [
            "0.0\n"
          ]
        }
      ]
    }
  ],
  "metadata": {
    "colab": {
      "name": "RainfallPredictionFinal (2).ipynb",
      "provenance": [],
      "collapsed_sections": [],
      "include_colab_link": true
    },
    "kernelspec": {
      "display_name": "Python 3",
      "language": "python",
      "name": "python3"
    },
    "language_info": {
      "codemirror_mode": {
        "name": "ipython",
        "version": 3
      },
      "file_extension": ".py",
      "mimetype": "text/x-python",
      "name": "python",
      "nbconvert_exporter": "python",
      "pygments_lexer": "ipython3",
      "version": "3.8.3"
    }
  },
  "nbformat": 4,
  "nbformat_minor": 0
}